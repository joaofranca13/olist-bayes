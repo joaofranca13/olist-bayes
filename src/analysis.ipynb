{
 "cells": [
  {
   "cell_type": "markdown",
   "metadata": {},
   "source": [
    "Importing the libraries"
   ]
  },
  {
   "cell_type": "code",
   "execution_count": 269,
   "metadata": {},
   "outputs": [],
   "source": [
    "import numpy as np\n",
    "import pandas as pd\n",
    "import seaborn as sns\n",
    "from datetime import datetime\n",
    "import matplotlib.pyplot as plt\n",
    "\n",
    "%matplotlib inline\n",
    "pd.set_option(\"display.max_columns\", None)"
   ]
  },
  {
   "cell_type": "markdown",
   "metadata": {},
   "source": [
    "Reading the data"
   ]
  },
  {
   "cell_type": "code",
   "execution_count": 270,
   "metadata": {},
   "outputs": [],
   "source": [
    "df = pd.read_feather(r\"..\\data\\olist_merged_dataset.feather\")\n",
    "region = pd.read_csv(r\"..\\data\\states_region_brazil.csv\")"
   ]
  },
  {
   "cell_type": "code",
   "execution_count": 271,
   "metadata": {},
   "outputs": [
    {
     "data": {
      "text/html": [
       "<div>\n",
       "<style scoped>\n",
       "    .dataframe tbody tr th:only-of-type {\n",
       "        vertical-align: middle;\n",
       "    }\n",
       "\n",
       "    .dataframe tbody tr th {\n",
       "        vertical-align: top;\n",
       "    }\n",
       "\n",
       "    .dataframe thead th {\n",
       "        text-align: right;\n",
       "    }\n",
       "</style>\n",
       "<table border=\"1\" class=\"dataframe\">\n",
       "  <thead>\n",
       "    <tr style=\"text-align: right;\">\n",
       "      <th></th>\n",
       "      <th>order_id</th>\n",
       "      <th>order_item_id</th>\n",
       "      <th>product_id</th>\n",
       "      <th>seller_id</th>\n",
       "      <th>shipping_limit_date</th>\n",
       "      <th>price</th>\n",
       "      <th>freight_value</th>\n",
       "      <th>product_category_name</th>\n",
       "      <th>product_name_lenght</th>\n",
       "      <th>product_description_lenght</th>\n",
       "      <th>product_photos_qty</th>\n",
       "      <th>product_weight_g</th>\n",
       "      <th>product_length_cm</th>\n",
       "      <th>product_height_cm</th>\n",
       "      <th>product_width_cm</th>\n",
       "      <th>customer_id</th>\n",
       "      <th>order_status</th>\n",
       "      <th>order_purchase_timestamp</th>\n",
       "      <th>order_approved_at</th>\n",
       "      <th>order_delivered_carrier_date</th>\n",
       "      <th>order_delivered_customer_date</th>\n",
       "      <th>order_estimated_delivery_date</th>\n",
       "      <th>customer_unique_id</th>\n",
       "      <th>customer_zip_code_prefix</th>\n",
       "      <th>customer_city</th>\n",
       "      <th>customer_state</th>\n",
       "      <th>review_id</th>\n",
       "      <th>review_score</th>\n",
       "      <th>review_comment_title</th>\n",
       "      <th>review_comment_message</th>\n",
       "      <th>review_creation_date</th>\n",
       "      <th>review_answer_timestamp</th>\n",
       "      <th>seller_zip_code_prefix</th>\n",
       "      <th>seller_city</th>\n",
       "      <th>seller_state</th>\n",
       "    </tr>\n",
       "  </thead>\n",
       "  <tbody>\n",
       "    <tr>\n",
       "      <th>0</th>\n",
       "      <td>00010242fe8c5a6d1ba2dd792cb16214</td>\n",
       "      <td>1</td>\n",
       "      <td>4244733e06e7ecb4970a6e2683c13e61</td>\n",
       "      <td>48436dade18ac8b2bce089ec2a041202</td>\n",
       "      <td>2017-09-19 09:45:35</td>\n",
       "      <td>58.90</td>\n",
       "      <td>13.29</td>\n",
       "      <td>cool_stuff</td>\n",
       "      <td>58.0</td>\n",
       "      <td>598.0</td>\n",
       "      <td>4.0</td>\n",
       "      <td>650.0</td>\n",
       "      <td>28.0</td>\n",
       "      <td>9.0</td>\n",
       "      <td>14.0</td>\n",
       "      <td>3ce436f183e68e07877b285a838db11a</td>\n",
       "      <td>delivered</td>\n",
       "      <td>2017-09-13 08:59:02</td>\n",
       "      <td>2017-09-13 09:45:35</td>\n",
       "      <td>2017-09-19 18:34:16</td>\n",
       "      <td>2017-09-20 23:43:48</td>\n",
       "      <td>2017-09-29 00:00:00</td>\n",
       "      <td>871766c5855e863f6eccc05f988b23cb</td>\n",
       "      <td>28013</td>\n",
       "      <td>campos dos goytacazes</td>\n",
       "      <td>RJ</td>\n",
       "      <td>97ca439bc427b48bc1cd7177abe71365</td>\n",
       "      <td>5.0</td>\n",
       "      <td>None</td>\n",
       "      <td>Perfeito, produto entregue antes do combinado.</td>\n",
       "      <td>2017-09-21 00:00:00</td>\n",
       "      <td>2017-09-22 10:57:03</td>\n",
       "      <td>27277</td>\n",
       "      <td>volta redonda</td>\n",
       "      <td>SP</td>\n",
       "    </tr>\n",
       "    <tr>\n",
       "      <th>1</th>\n",
       "      <td>00018f77f2f0320c557190d7a144bdd3</td>\n",
       "      <td>1</td>\n",
       "      <td>e5f2d52b802189ee658865ca93d83a8f</td>\n",
       "      <td>dd7ddc04e1b6c2c614352b383efe2d36</td>\n",
       "      <td>2017-05-03 11:05:13</td>\n",
       "      <td>239.90</td>\n",
       "      <td>19.93</td>\n",
       "      <td>pet_shop</td>\n",
       "      <td>56.0</td>\n",
       "      <td>239.0</td>\n",
       "      <td>2.0</td>\n",
       "      <td>30000.0</td>\n",
       "      <td>50.0</td>\n",
       "      <td>30.0</td>\n",
       "      <td>40.0</td>\n",
       "      <td>f6dd3ec061db4e3987629fe6b26e5cce</td>\n",
       "      <td>delivered</td>\n",
       "      <td>2017-04-26 10:53:06</td>\n",
       "      <td>2017-04-26 11:05:13</td>\n",
       "      <td>2017-05-04 14:35:00</td>\n",
       "      <td>2017-05-12 16:04:24</td>\n",
       "      <td>2017-05-15 00:00:00</td>\n",
       "      <td>eb28e67c4c0b83846050ddfb8a35d051</td>\n",
       "      <td>15775</td>\n",
       "      <td>santa fe do sul</td>\n",
       "      <td>SP</td>\n",
       "      <td>7b07bacd811c4117b742569b04ce3580</td>\n",
       "      <td>4.0</td>\n",
       "      <td>None</td>\n",
       "      <td>None</td>\n",
       "      <td>2017-05-13 00:00:00</td>\n",
       "      <td>2017-05-15 11:34:13</td>\n",
       "      <td>3471</td>\n",
       "      <td>sao paulo</td>\n",
       "      <td>SP</td>\n",
       "    </tr>\n",
       "    <tr>\n",
       "      <th>2</th>\n",
       "      <td>000229ec398224ef6ca0657da4fc703e</td>\n",
       "      <td>1</td>\n",
       "      <td>c777355d18b72b67abbeef9df44fd0fd</td>\n",
       "      <td>5b51032eddd242adc84c38acab88f23d</td>\n",
       "      <td>2018-01-18 14:48:30</td>\n",
       "      <td>199.00</td>\n",
       "      <td>17.87</td>\n",
       "      <td>moveis_decoracao</td>\n",
       "      <td>59.0</td>\n",
       "      <td>695.0</td>\n",
       "      <td>2.0</td>\n",
       "      <td>3050.0</td>\n",
       "      <td>33.0</td>\n",
       "      <td>13.0</td>\n",
       "      <td>33.0</td>\n",
       "      <td>6489ae5e4333f3693df5ad4372dab6d3</td>\n",
       "      <td>delivered</td>\n",
       "      <td>2018-01-14 14:33:31</td>\n",
       "      <td>2018-01-14 14:48:30</td>\n",
       "      <td>2018-01-16 12:36:48</td>\n",
       "      <td>2018-01-22 13:19:16</td>\n",
       "      <td>2018-02-05 00:00:00</td>\n",
       "      <td>3818d81c6709e39d06b2738a8d3a2474</td>\n",
       "      <td>35661</td>\n",
       "      <td>para de minas</td>\n",
       "      <td>MG</td>\n",
       "      <td>0c5b33dea94867d1ac402749e5438e8b</td>\n",
       "      <td>5.0</td>\n",
       "      <td>None</td>\n",
       "      <td>Chegou antes do prazo previsto e o produto sur...</td>\n",
       "      <td>2018-01-23 00:00:00</td>\n",
       "      <td>2018-01-23 16:06:31</td>\n",
       "      <td>37564</td>\n",
       "      <td>borda da mata</td>\n",
       "      <td>MG</td>\n",
       "    </tr>\n",
       "    <tr>\n",
       "      <th>3</th>\n",
       "      <td>00024acbcdf0a6daa1e931b038114c75</td>\n",
       "      <td>1</td>\n",
       "      <td>7634da152a4610f1595efa32f14722fc</td>\n",
       "      <td>9d7a1d34a5052409006425275ba1c2b4</td>\n",
       "      <td>2018-08-15 10:10:18</td>\n",
       "      <td>12.99</td>\n",
       "      <td>12.79</td>\n",
       "      <td>perfumaria</td>\n",
       "      <td>42.0</td>\n",
       "      <td>480.0</td>\n",
       "      <td>1.0</td>\n",
       "      <td>200.0</td>\n",
       "      <td>16.0</td>\n",
       "      <td>10.0</td>\n",
       "      <td>15.0</td>\n",
       "      <td>d4eb9395c8c0431ee92fce09860c5a06</td>\n",
       "      <td>delivered</td>\n",
       "      <td>2018-08-08 10:00:35</td>\n",
       "      <td>2018-08-08 10:10:18</td>\n",
       "      <td>2018-08-10 13:28:00</td>\n",
       "      <td>2018-08-14 13:32:39</td>\n",
       "      <td>2018-08-20 00:00:00</td>\n",
       "      <td>af861d436cfc08b2c2ddefd0ba074622</td>\n",
       "      <td>12952</td>\n",
       "      <td>atibaia</td>\n",
       "      <td>SP</td>\n",
       "      <td>f4028d019cb58564807486a6aaf33817</td>\n",
       "      <td>4.0</td>\n",
       "      <td>None</td>\n",
       "      <td>None</td>\n",
       "      <td>2018-08-15 00:00:00</td>\n",
       "      <td>2018-08-15 16:39:01</td>\n",
       "      <td>14403</td>\n",
       "      <td>franca</td>\n",
       "      <td>SP</td>\n",
       "    </tr>\n",
       "    <tr>\n",
       "      <th>4</th>\n",
       "      <td>00042b26cf59d7ce69dfabb4e55b4fd9</td>\n",
       "      <td>1</td>\n",
       "      <td>ac6c3623068f30de03045865e4e10089</td>\n",
       "      <td>df560393f3a51e74553ab94004ba5c87</td>\n",
       "      <td>2017-02-13 13:57:51</td>\n",
       "      <td>199.90</td>\n",
       "      <td>18.14</td>\n",
       "      <td>ferramentas_jardim</td>\n",
       "      <td>59.0</td>\n",
       "      <td>409.0</td>\n",
       "      <td>1.0</td>\n",
       "      <td>3750.0</td>\n",
       "      <td>35.0</td>\n",
       "      <td>40.0</td>\n",
       "      <td>30.0</td>\n",
       "      <td>58dbd0b2d70206bf40e62cd34e84d795</td>\n",
       "      <td>delivered</td>\n",
       "      <td>2017-02-04 13:57:51</td>\n",
       "      <td>2017-02-04 14:10:13</td>\n",
       "      <td>2017-02-16 09:46:09</td>\n",
       "      <td>2017-03-01 16:42:31</td>\n",
       "      <td>2017-03-17 00:00:00</td>\n",
       "      <td>64b576fb70d441e8f1b2d7d446e483c5</td>\n",
       "      <td>13226</td>\n",
       "      <td>varzea paulista</td>\n",
       "      <td>SP</td>\n",
       "      <td>940144190dcba6351888cafa43f3a3a5</td>\n",
       "      <td>5.0</td>\n",
       "      <td>None</td>\n",
       "      <td>Gostei pois veio no prazo determinado .</td>\n",
       "      <td>2017-03-02 00:00:00</td>\n",
       "      <td>2017-03-03 10:54:59</td>\n",
       "      <td>87900</td>\n",
       "      <td>loanda</td>\n",
       "      <td>PR</td>\n",
       "    </tr>\n",
       "  </tbody>\n",
       "</table>\n",
       "</div>"
      ],
      "text/plain": [
       "                           order_id  order_item_id  \\\n",
       "0  00010242fe8c5a6d1ba2dd792cb16214              1   \n",
       "1  00018f77f2f0320c557190d7a144bdd3              1   \n",
       "2  000229ec398224ef6ca0657da4fc703e              1   \n",
       "3  00024acbcdf0a6daa1e931b038114c75              1   \n",
       "4  00042b26cf59d7ce69dfabb4e55b4fd9              1   \n",
       "\n",
       "                         product_id                         seller_id  \\\n",
       "0  4244733e06e7ecb4970a6e2683c13e61  48436dade18ac8b2bce089ec2a041202   \n",
       "1  e5f2d52b802189ee658865ca93d83a8f  dd7ddc04e1b6c2c614352b383efe2d36   \n",
       "2  c777355d18b72b67abbeef9df44fd0fd  5b51032eddd242adc84c38acab88f23d   \n",
       "3  7634da152a4610f1595efa32f14722fc  9d7a1d34a5052409006425275ba1c2b4   \n",
       "4  ac6c3623068f30de03045865e4e10089  df560393f3a51e74553ab94004ba5c87   \n",
       "\n",
       "   shipping_limit_date   price  freight_value product_category_name  \\\n",
       "0  2017-09-19 09:45:35   58.90          13.29            cool_stuff   \n",
       "1  2017-05-03 11:05:13  239.90          19.93              pet_shop   \n",
       "2  2018-01-18 14:48:30  199.00          17.87      moveis_decoracao   \n",
       "3  2018-08-15 10:10:18   12.99          12.79            perfumaria   \n",
       "4  2017-02-13 13:57:51  199.90          18.14    ferramentas_jardim   \n",
       "\n",
       "   product_name_lenght  product_description_lenght  product_photos_qty  \\\n",
       "0                 58.0                       598.0                 4.0   \n",
       "1                 56.0                       239.0                 2.0   \n",
       "2                 59.0                       695.0                 2.0   \n",
       "3                 42.0                       480.0                 1.0   \n",
       "4                 59.0                       409.0                 1.0   \n",
       "\n",
       "   product_weight_g  product_length_cm  product_height_cm  product_width_cm  \\\n",
       "0             650.0               28.0                9.0              14.0   \n",
       "1           30000.0               50.0               30.0              40.0   \n",
       "2            3050.0               33.0               13.0              33.0   \n",
       "3             200.0               16.0               10.0              15.0   \n",
       "4            3750.0               35.0               40.0              30.0   \n",
       "\n",
       "                        customer_id order_status order_purchase_timestamp  \\\n",
       "0  3ce436f183e68e07877b285a838db11a    delivered      2017-09-13 08:59:02   \n",
       "1  f6dd3ec061db4e3987629fe6b26e5cce    delivered      2017-04-26 10:53:06   \n",
       "2  6489ae5e4333f3693df5ad4372dab6d3    delivered      2018-01-14 14:33:31   \n",
       "3  d4eb9395c8c0431ee92fce09860c5a06    delivered      2018-08-08 10:00:35   \n",
       "4  58dbd0b2d70206bf40e62cd34e84d795    delivered      2017-02-04 13:57:51   \n",
       "\n",
       "     order_approved_at order_delivered_carrier_date  \\\n",
       "0  2017-09-13 09:45:35          2017-09-19 18:34:16   \n",
       "1  2017-04-26 11:05:13          2017-05-04 14:35:00   \n",
       "2  2018-01-14 14:48:30          2018-01-16 12:36:48   \n",
       "3  2018-08-08 10:10:18          2018-08-10 13:28:00   \n",
       "4  2017-02-04 14:10:13          2017-02-16 09:46:09   \n",
       "\n",
       "  order_delivered_customer_date order_estimated_delivery_date  \\\n",
       "0           2017-09-20 23:43:48           2017-09-29 00:00:00   \n",
       "1           2017-05-12 16:04:24           2017-05-15 00:00:00   \n",
       "2           2018-01-22 13:19:16           2018-02-05 00:00:00   \n",
       "3           2018-08-14 13:32:39           2018-08-20 00:00:00   \n",
       "4           2017-03-01 16:42:31           2017-03-17 00:00:00   \n",
       "\n",
       "                 customer_unique_id  customer_zip_code_prefix  \\\n",
       "0  871766c5855e863f6eccc05f988b23cb                     28013   \n",
       "1  eb28e67c4c0b83846050ddfb8a35d051                     15775   \n",
       "2  3818d81c6709e39d06b2738a8d3a2474                     35661   \n",
       "3  af861d436cfc08b2c2ddefd0ba074622                     12952   \n",
       "4  64b576fb70d441e8f1b2d7d446e483c5                     13226   \n",
       "\n",
       "           customer_city customer_state                         review_id  \\\n",
       "0  campos dos goytacazes             RJ  97ca439bc427b48bc1cd7177abe71365   \n",
       "1        santa fe do sul             SP  7b07bacd811c4117b742569b04ce3580   \n",
       "2          para de minas             MG  0c5b33dea94867d1ac402749e5438e8b   \n",
       "3                atibaia             SP  f4028d019cb58564807486a6aaf33817   \n",
       "4        varzea paulista             SP  940144190dcba6351888cafa43f3a3a5   \n",
       "\n",
       "   review_score review_comment_title  \\\n",
       "0           5.0                 None   \n",
       "1           4.0                 None   \n",
       "2           5.0                 None   \n",
       "3           4.0                 None   \n",
       "4           5.0                 None   \n",
       "\n",
       "                              review_comment_message review_creation_date  \\\n",
       "0     Perfeito, produto entregue antes do combinado.  2017-09-21 00:00:00   \n",
       "1                                               None  2017-05-13 00:00:00   \n",
       "2  Chegou antes do prazo previsto e o produto sur...  2018-01-23 00:00:00   \n",
       "3                                               None  2018-08-15 00:00:00   \n",
       "4            Gostei pois veio no prazo determinado .  2017-03-02 00:00:00   \n",
       "\n",
       "  review_answer_timestamp  seller_zip_code_prefix    seller_city seller_state  \n",
       "0     2017-09-22 10:57:03                   27277  volta redonda           SP  \n",
       "1     2017-05-15 11:34:13                    3471      sao paulo           SP  \n",
       "2     2018-01-23 16:06:31                   37564  borda da mata           MG  \n",
       "3     2018-08-15 16:39:01                   14403         franca           SP  \n",
       "4     2017-03-03 10:54:59                   87900         loanda           PR  "
      ]
     },
     "execution_count": 271,
     "metadata": {},
     "output_type": "execute_result"
    }
   ],
   "source": [
    "df.head()"
   ]
  },
  {
   "cell_type": "markdown",
   "metadata": {},
   "source": [
    "Since we already verifed in the \"merging\" notebook that 97% of all orders are delivered, we're going to focus only in the these orders."
   ]
  },
  {
   "cell_type": "code",
   "execution_count": 272,
   "metadata": {},
   "outputs": [],
   "source": [
    "df = df[df[\"order_status\"] == \"delivered\"]"
   ]
  },
  {
   "cell_type": "code",
   "execution_count": 273,
   "metadata": {},
   "outputs": [
    {
     "data": {
      "text/plain": [
       "(110840, 35)"
      ]
     },
     "execution_count": 273,
     "metadata": {},
     "output_type": "execute_result"
    }
   ],
   "source": [
    "df.shape"
   ]
  },
  {
   "cell_type": "code",
   "execution_count": 274,
   "metadata": {},
   "outputs": [
    {
     "data": {
      "text/plain": [
       "delivered    110840\n",
       "Name: order_status, dtype: int64"
      ]
     },
     "execution_count": 274,
     "metadata": {},
     "output_type": "execute_result"
    }
   ],
   "source": [
    "df[\"order_status\"].value_counts()"
   ]
  },
  {
   "cell_type": "markdown",
   "metadata": {},
   "source": [
    "Check for null values"
   ]
  },
  {
   "cell_type": "code",
   "execution_count": 275,
   "metadata": {},
   "outputs": [
    {
     "data": {
      "text/plain": [
       "review_comment_title             97710\n",
       "review_comment_message           64705\n",
       "product_description_lenght        1545\n",
       "product_category_name             1545\n",
       "product_photos_qty                1545\n",
       "product_name_lenght               1545\n",
       "review_score                       827\n",
       "review_id                          827\n",
       "review_creation_date               827\n",
       "review_answer_timestamp            827\n",
       "product_length_cm                   18\n",
       "product_height_cm                   18\n",
       "product_width_cm                    18\n",
       "product_weight_g                    18\n",
       "order_approved_at                   15\n",
       "order_delivered_customer_date        8\n",
       "order_delivered_carrier_date         2\n",
       "customer_state                       0\n",
       "order_id                             0\n",
       "customer_zip_code_prefix             0\n",
       "seller_zip_code_prefix               0\n",
       "seller_city                          0\n",
       "customer_city                        0\n",
       "order_purchase_timestamp             0\n",
       "customer_unique_id                   0\n",
       "order_estimated_delivery_date        0\n",
       "order_item_id                        0\n",
       "order_status                         0\n",
       "customer_id                          0\n",
       "freight_value                        0\n",
       "price                                0\n",
       "shipping_limit_date                  0\n",
       "seller_id                            0\n",
       "product_id                           0\n",
       "seller_state                         0\n",
       "dtype: int64"
      ]
     },
     "execution_count": 275,
     "metadata": {},
     "output_type": "execute_result"
    }
   ],
   "source": [
    "df.isnull().sum().sort_values(ascending=False)"
   ]
  },
  {
   "cell_type": "markdown",
   "metadata": {},
   "source": [
    "Dropping possible problematic rows with missing data\n",
    "\n"
   ]
  },
  {
   "cell_type": "code",
   "execution_count": 276,
   "metadata": {},
   "outputs": [],
   "source": [
    "df.dropna(\n",
    "    subset=[\n",
    "        \"product_length_cm\",\n",
    "        \"product_height_cm\",\n",
    "        \"product_width_cm\",\n",
    "        \"product_weight_g\",\n",
    "        \"order_approved_at\",\n",
    "        \"order_delivered_customer_date\",\n",
    "        \"order_delivered_carrier_date\",\n",
    "        \"product_description_lenght\",\n",
    "        \"product_category_name\",\n",
    "        \"product_name_lenght\",\n",
    "        \"product_photos_qty\",\n",
    "        \"review_score\",\n",
    "        \"review_answer_timestamp\",\n",
    "        \"review_creation_date\",\n",
    "        \"review_id\",\n",
    "    ],\n",
    "    inplace=True,\n",
    ")"
   ]
  },
  {
   "cell_type": "code",
   "execution_count": 277,
   "metadata": {},
   "outputs": [
    {
     "data": {
      "text/plain": [
       "review_comment_title             95404\n",
       "review_comment_message           63001\n",
       "order_id                             0\n",
       "customer_state                       0\n",
       "order_delivered_customer_date        0\n",
       "order_estimated_delivery_date        0\n",
       "customer_unique_id                   0\n",
       "customer_zip_code_prefix             0\n",
       "customer_city                        0\n",
       "review_score                         0\n",
       "review_id                            0\n",
       "order_approved_at                    0\n",
       "review_creation_date                 0\n",
       "review_answer_timestamp              0\n",
       "seller_zip_code_prefix               0\n",
       "seller_city                          0\n",
       "order_delivered_carrier_date         0\n",
       "order_purchase_timestamp             0\n",
       "order_item_id                        0\n",
       "product_name_lenght                  0\n",
       "product_id                           0\n",
       "seller_id                            0\n",
       "shipping_limit_date                  0\n",
       "price                                0\n",
       "freight_value                        0\n",
       "product_category_name                0\n",
       "product_description_lenght           0\n",
       "order_status                         0\n",
       "product_photos_qty                   0\n",
       "product_weight_g                     0\n",
       "product_length_cm                    0\n",
       "product_height_cm                    0\n",
       "product_width_cm                     0\n",
       "customer_id                          0\n",
       "seller_state                         0\n",
       "dtype: int64"
      ]
     },
     "execution_count": 277,
     "metadata": {},
     "output_type": "execute_result"
    }
   ],
   "source": [
    "df.isnull().sum().sort_values(ascending=False)"
   ]
  },
  {
   "cell_type": "markdown",
   "metadata": {},
   "source": [
    "The remaining columns that have null values, we're going to keep for now, since they might still be useful."
   ]
  },
  {
   "cell_type": "markdown",
   "metadata": {},
   "source": [
    "Feature Engineering"
   ]
  },
  {
   "cell_type": "markdown",
   "metadata": {},
   "source": [
    "Reduzindo as colunas de altura, comprimento e largura em uma única variável, Volume."
   ]
  },
  {
   "cell_type": "code",
   "execution_count": 278,
   "metadata": {},
   "outputs": [],
   "source": [
    "df[\"product_volume_cm3\"] = (\n",
    "    df[\"product_length_cm\"] * df[\"product_height_cm\"] * df[\"product_width_cm\"]\n",
    ")"
   ]
  },
  {
   "cell_type": "markdown",
   "metadata": {},
   "source": [
    "Reduizindo as colunas de estimativa de entrega e data de entrega realizada em uma única variável, Delay de entrega."
   ]
  },
  {
   "cell_type": "code",
   "execution_count": 279,
   "metadata": {},
   "outputs": [],
   "source": [
    "df[\"order_purchase_month\"] = pd.to_datetime(\n",
    "    df[\"order_purchase_timestamp\"]\n",
    ").dt.to_period(\"M\")\n",
    "\n",
    "df[\"order_delivered_customer_date\"] = pd.to_datetime(\n",
    "    df[\"order_delivered_customer_date\"]\n",
    ").dt.date\n",
    "\n",
    "df[\"order_estimated_delivery_date\"] = pd.to_datetime(\n",
    "    df[\"order_estimated_delivery_date\"]\n",
    ").dt.date"
   ]
  },
  {
   "cell_type": "code",
   "execution_count": 280,
   "metadata": {},
   "outputs": [],
   "source": [
    "df[\"order_delivery_delay\"] = (\n",
    "    df[\"order_delivered_customer_date\"] - df[\"order_estimated_delivery_date\"]\n",
    ").astype(np.int64)\n",
    "\n",
    "df[\"order_delivery_delay\"] = (\n",
    "    df[\"order_delivery_delay\"] / 86400000000000\n",
    ")  # Converting from nanoseconds to days"
   ]
  },
  {
   "cell_type": "markdown",
   "metadata": {},
   "source": [
    "Dropping columns that will not be analyzed"
   ]
  },
  {
   "cell_type": "code",
   "execution_count": 281,
   "metadata": {},
   "outputs": [],
   "source": [
    "drop = [\n",
    "    \"product_length_cm\",\n",
    "    \"product_height_cm\",\n",
    "    \"product_width_cm\",\n",
    "    \"customer_zip_code_prefix\",\n",
    "    \"review_comment_title\",\n",
    "    \"review_comment_message\",\n",
    "    \"review_creation_date\",\n",
    "    \"review_answer_timestamp\",\n",
    "    \"seller_zip_code_prefix\",\n",
    "    \"order_purchase_timestamp\",\n",
    "    \"order_estimated_delivery_date\",\n",
    "    \"order_delivered_customer_date\",\n",
    "    \"review_id\",\n",
    "    \"order_approved_at\",\n",
    "]\n",
    "\n",
    "\n",
    "df.drop(drop, axis=1, inplace=True)"
   ]
  },
  {
   "cell_type": "code",
   "execution_count": 282,
   "metadata": {},
   "outputs": [
    {
     "data": {
      "text/html": [
       "<div>\n",
       "<style scoped>\n",
       "    .dataframe tbody tr th:only-of-type {\n",
       "        vertical-align: middle;\n",
       "    }\n",
       "\n",
       "    .dataframe tbody tr th {\n",
       "        vertical-align: top;\n",
       "    }\n",
       "\n",
       "    .dataframe thead th {\n",
       "        text-align: right;\n",
       "    }\n",
       "</style>\n",
       "<table border=\"1\" class=\"dataframe\">\n",
       "  <thead>\n",
       "    <tr style=\"text-align: right;\">\n",
       "      <th></th>\n",
       "      <th>order_id</th>\n",
       "      <th>order_item_id</th>\n",
       "      <th>product_id</th>\n",
       "      <th>seller_id</th>\n",
       "      <th>shipping_limit_date</th>\n",
       "      <th>price</th>\n",
       "      <th>freight_value</th>\n",
       "      <th>product_category_name</th>\n",
       "      <th>product_name_lenght</th>\n",
       "      <th>product_description_lenght</th>\n",
       "      <th>product_photos_qty</th>\n",
       "      <th>product_weight_g</th>\n",
       "      <th>customer_id</th>\n",
       "      <th>order_status</th>\n",
       "      <th>order_delivered_carrier_date</th>\n",
       "      <th>customer_unique_id</th>\n",
       "      <th>customer_city</th>\n",
       "      <th>customer_state</th>\n",
       "      <th>review_score</th>\n",
       "      <th>seller_city</th>\n",
       "      <th>seller_state</th>\n",
       "      <th>product_volume_cm3</th>\n",
       "      <th>order_purchase_month</th>\n",
       "      <th>order_delivery_delay</th>\n",
       "    </tr>\n",
       "  </thead>\n",
       "  <tbody>\n",
       "    <tr>\n",
       "      <th>0</th>\n",
       "      <td>00010242fe8c5a6d1ba2dd792cb16214</td>\n",
       "      <td>1</td>\n",
       "      <td>4244733e06e7ecb4970a6e2683c13e61</td>\n",
       "      <td>48436dade18ac8b2bce089ec2a041202</td>\n",
       "      <td>2017-09-19 09:45:35</td>\n",
       "      <td>58.90</td>\n",
       "      <td>13.29</td>\n",
       "      <td>cool_stuff</td>\n",
       "      <td>58.0</td>\n",
       "      <td>598.0</td>\n",
       "      <td>4.0</td>\n",
       "      <td>650.0</td>\n",
       "      <td>3ce436f183e68e07877b285a838db11a</td>\n",
       "      <td>delivered</td>\n",
       "      <td>2017-09-19 18:34:16</td>\n",
       "      <td>871766c5855e863f6eccc05f988b23cb</td>\n",
       "      <td>campos dos goytacazes</td>\n",
       "      <td>RJ</td>\n",
       "      <td>5.0</td>\n",
       "      <td>volta redonda</td>\n",
       "      <td>SP</td>\n",
       "      <td>3528.0</td>\n",
       "      <td>2017-09</td>\n",
       "      <td>-9.0</td>\n",
       "    </tr>\n",
       "    <tr>\n",
       "      <th>1</th>\n",
       "      <td>00018f77f2f0320c557190d7a144bdd3</td>\n",
       "      <td>1</td>\n",
       "      <td>e5f2d52b802189ee658865ca93d83a8f</td>\n",
       "      <td>dd7ddc04e1b6c2c614352b383efe2d36</td>\n",
       "      <td>2017-05-03 11:05:13</td>\n",
       "      <td>239.90</td>\n",
       "      <td>19.93</td>\n",
       "      <td>pet_shop</td>\n",
       "      <td>56.0</td>\n",
       "      <td>239.0</td>\n",
       "      <td>2.0</td>\n",
       "      <td>30000.0</td>\n",
       "      <td>f6dd3ec061db4e3987629fe6b26e5cce</td>\n",
       "      <td>delivered</td>\n",
       "      <td>2017-05-04 14:35:00</td>\n",
       "      <td>eb28e67c4c0b83846050ddfb8a35d051</td>\n",
       "      <td>santa fe do sul</td>\n",
       "      <td>SP</td>\n",
       "      <td>4.0</td>\n",
       "      <td>sao paulo</td>\n",
       "      <td>SP</td>\n",
       "      <td>60000.0</td>\n",
       "      <td>2017-04</td>\n",
       "      <td>-3.0</td>\n",
       "    </tr>\n",
       "    <tr>\n",
       "      <th>2</th>\n",
       "      <td>000229ec398224ef6ca0657da4fc703e</td>\n",
       "      <td>1</td>\n",
       "      <td>c777355d18b72b67abbeef9df44fd0fd</td>\n",
       "      <td>5b51032eddd242adc84c38acab88f23d</td>\n",
       "      <td>2018-01-18 14:48:30</td>\n",
       "      <td>199.00</td>\n",
       "      <td>17.87</td>\n",
       "      <td>moveis_decoracao</td>\n",
       "      <td>59.0</td>\n",
       "      <td>695.0</td>\n",
       "      <td>2.0</td>\n",
       "      <td>3050.0</td>\n",
       "      <td>6489ae5e4333f3693df5ad4372dab6d3</td>\n",
       "      <td>delivered</td>\n",
       "      <td>2018-01-16 12:36:48</td>\n",
       "      <td>3818d81c6709e39d06b2738a8d3a2474</td>\n",
       "      <td>para de minas</td>\n",
       "      <td>MG</td>\n",
       "      <td>5.0</td>\n",
       "      <td>borda da mata</td>\n",
       "      <td>MG</td>\n",
       "      <td>14157.0</td>\n",
       "      <td>2018-01</td>\n",
       "      <td>-14.0</td>\n",
       "    </tr>\n",
       "    <tr>\n",
       "      <th>3</th>\n",
       "      <td>00024acbcdf0a6daa1e931b038114c75</td>\n",
       "      <td>1</td>\n",
       "      <td>7634da152a4610f1595efa32f14722fc</td>\n",
       "      <td>9d7a1d34a5052409006425275ba1c2b4</td>\n",
       "      <td>2018-08-15 10:10:18</td>\n",
       "      <td>12.99</td>\n",
       "      <td>12.79</td>\n",
       "      <td>perfumaria</td>\n",
       "      <td>42.0</td>\n",
       "      <td>480.0</td>\n",
       "      <td>1.0</td>\n",
       "      <td>200.0</td>\n",
       "      <td>d4eb9395c8c0431ee92fce09860c5a06</td>\n",
       "      <td>delivered</td>\n",
       "      <td>2018-08-10 13:28:00</td>\n",
       "      <td>af861d436cfc08b2c2ddefd0ba074622</td>\n",
       "      <td>atibaia</td>\n",
       "      <td>SP</td>\n",
       "      <td>4.0</td>\n",
       "      <td>franca</td>\n",
       "      <td>SP</td>\n",
       "      <td>2400.0</td>\n",
       "      <td>2018-08</td>\n",
       "      <td>-6.0</td>\n",
       "    </tr>\n",
       "    <tr>\n",
       "      <th>4</th>\n",
       "      <td>00042b26cf59d7ce69dfabb4e55b4fd9</td>\n",
       "      <td>1</td>\n",
       "      <td>ac6c3623068f30de03045865e4e10089</td>\n",
       "      <td>df560393f3a51e74553ab94004ba5c87</td>\n",
       "      <td>2017-02-13 13:57:51</td>\n",
       "      <td>199.90</td>\n",
       "      <td>18.14</td>\n",
       "      <td>ferramentas_jardim</td>\n",
       "      <td>59.0</td>\n",
       "      <td>409.0</td>\n",
       "      <td>1.0</td>\n",
       "      <td>3750.0</td>\n",
       "      <td>58dbd0b2d70206bf40e62cd34e84d795</td>\n",
       "      <td>delivered</td>\n",
       "      <td>2017-02-16 09:46:09</td>\n",
       "      <td>64b576fb70d441e8f1b2d7d446e483c5</td>\n",
       "      <td>varzea paulista</td>\n",
       "      <td>SP</td>\n",
       "      <td>5.0</td>\n",
       "      <td>loanda</td>\n",
       "      <td>PR</td>\n",
       "      <td>42000.0</td>\n",
       "      <td>2017-02</td>\n",
       "      <td>-16.0</td>\n",
       "    </tr>\n",
       "  </tbody>\n",
       "</table>\n",
       "</div>"
      ],
      "text/plain": [
       "                           order_id  order_item_id  \\\n",
       "0  00010242fe8c5a6d1ba2dd792cb16214              1   \n",
       "1  00018f77f2f0320c557190d7a144bdd3              1   \n",
       "2  000229ec398224ef6ca0657da4fc703e              1   \n",
       "3  00024acbcdf0a6daa1e931b038114c75              1   \n",
       "4  00042b26cf59d7ce69dfabb4e55b4fd9              1   \n",
       "\n",
       "                         product_id                         seller_id  \\\n",
       "0  4244733e06e7ecb4970a6e2683c13e61  48436dade18ac8b2bce089ec2a041202   \n",
       "1  e5f2d52b802189ee658865ca93d83a8f  dd7ddc04e1b6c2c614352b383efe2d36   \n",
       "2  c777355d18b72b67abbeef9df44fd0fd  5b51032eddd242adc84c38acab88f23d   \n",
       "3  7634da152a4610f1595efa32f14722fc  9d7a1d34a5052409006425275ba1c2b4   \n",
       "4  ac6c3623068f30de03045865e4e10089  df560393f3a51e74553ab94004ba5c87   \n",
       "\n",
       "   shipping_limit_date   price  freight_value product_category_name  \\\n",
       "0  2017-09-19 09:45:35   58.90          13.29            cool_stuff   \n",
       "1  2017-05-03 11:05:13  239.90          19.93              pet_shop   \n",
       "2  2018-01-18 14:48:30  199.00          17.87      moveis_decoracao   \n",
       "3  2018-08-15 10:10:18   12.99          12.79            perfumaria   \n",
       "4  2017-02-13 13:57:51  199.90          18.14    ferramentas_jardim   \n",
       "\n",
       "   product_name_lenght  product_description_lenght  product_photos_qty  \\\n",
       "0                 58.0                       598.0                 4.0   \n",
       "1                 56.0                       239.0                 2.0   \n",
       "2                 59.0                       695.0                 2.0   \n",
       "3                 42.0                       480.0                 1.0   \n",
       "4                 59.0                       409.0                 1.0   \n",
       "\n",
       "   product_weight_g                       customer_id order_status  \\\n",
       "0             650.0  3ce436f183e68e07877b285a838db11a    delivered   \n",
       "1           30000.0  f6dd3ec061db4e3987629fe6b26e5cce    delivered   \n",
       "2            3050.0  6489ae5e4333f3693df5ad4372dab6d3    delivered   \n",
       "3             200.0  d4eb9395c8c0431ee92fce09860c5a06    delivered   \n",
       "4            3750.0  58dbd0b2d70206bf40e62cd34e84d795    delivered   \n",
       "\n",
       "  order_delivered_carrier_date                customer_unique_id  \\\n",
       "0          2017-09-19 18:34:16  871766c5855e863f6eccc05f988b23cb   \n",
       "1          2017-05-04 14:35:00  eb28e67c4c0b83846050ddfb8a35d051   \n",
       "2          2018-01-16 12:36:48  3818d81c6709e39d06b2738a8d3a2474   \n",
       "3          2018-08-10 13:28:00  af861d436cfc08b2c2ddefd0ba074622   \n",
       "4          2017-02-16 09:46:09  64b576fb70d441e8f1b2d7d446e483c5   \n",
       "\n",
       "           customer_city customer_state  review_score    seller_city  \\\n",
       "0  campos dos goytacazes             RJ           5.0  volta redonda   \n",
       "1        santa fe do sul             SP           4.0      sao paulo   \n",
       "2          para de minas             MG           5.0  borda da mata   \n",
       "3                atibaia             SP           4.0         franca   \n",
       "4        varzea paulista             SP           5.0         loanda   \n",
       "\n",
       "  seller_state  product_volume_cm3 order_purchase_month  order_delivery_delay  \n",
       "0           SP              3528.0              2017-09                  -9.0  \n",
       "1           SP             60000.0              2017-04                  -3.0  \n",
       "2           MG             14157.0              2018-01                 -14.0  \n",
       "3           SP              2400.0              2018-08                  -6.0  \n",
       "4           PR             42000.0              2017-02                 -16.0  "
      ]
     },
     "execution_count": 282,
     "metadata": {},
     "output_type": "execute_result"
    }
   ],
   "source": [
    "df.head()"
   ]
  },
  {
   "cell_type": "code",
   "execution_count": 283,
   "metadata": {},
   "outputs": [
    {
     "data": {
      "text/plain": [
       "array(['AC', 'AL', 'AM', 'AP', 'BA', 'CE', 'DF', 'ES', 'GO', 'MA', 'MG',\n",
       "       'MS', 'MT', 'PA', 'PB', 'PE', 'PI', 'PR', 'RJ', 'RN', 'RO', 'RR',\n",
       "       'RS', 'SC', 'SE', 'SP', 'TO'], dtype=object)"
      ]
     },
     "execution_count": 283,
     "metadata": {},
     "output_type": "execute_result"
    }
   ],
   "source": [
    "df[\"customer_state\"].sort_values().unique()"
   ]
  },
  {
   "cell_type": "code",
   "execution_count": 284,
   "metadata": {},
   "outputs": [],
   "source": [
    "df = pd.merge(df, region, how=\"left\", on=\"customer_state\")"
   ]
  },
  {
   "cell_type": "code",
   "execution_count": 285,
   "metadata": {},
   "outputs": [],
   "source": [
    "df.rename(columns={\"region\": \"customer_region\"}, inplace=True)"
   ]
  },
  {
   "cell_type": "code",
   "execution_count": 286,
   "metadata": {},
   "outputs": [
    {
     "data": {
      "text/html": [
       "<div>\n",
       "<style scoped>\n",
       "    .dataframe tbody tr th:only-of-type {\n",
       "        vertical-align: middle;\n",
       "    }\n",
       "\n",
       "    .dataframe tbody tr th {\n",
       "        vertical-align: top;\n",
       "    }\n",
       "\n",
       "    .dataframe thead th {\n",
       "        text-align: right;\n",
       "    }\n",
       "</style>\n",
       "<table border=\"1\" class=\"dataframe\">\n",
       "  <thead>\n",
       "    <tr style=\"text-align: right;\">\n",
       "      <th></th>\n",
       "      <th>order_id</th>\n",
       "      <th>order_item_id</th>\n",
       "      <th>product_id</th>\n",
       "      <th>seller_id</th>\n",
       "      <th>shipping_limit_date</th>\n",
       "      <th>price</th>\n",
       "      <th>freight_value</th>\n",
       "      <th>product_category_name</th>\n",
       "      <th>product_name_lenght</th>\n",
       "      <th>product_description_lenght</th>\n",
       "      <th>product_photos_qty</th>\n",
       "      <th>product_weight_g</th>\n",
       "      <th>customer_id</th>\n",
       "      <th>order_status</th>\n",
       "      <th>order_delivered_carrier_date</th>\n",
       "      <th>customer_unique_id</th>\n",
       "      <th>customer_city</th>\n",
       "      <th>customer_state</th>\n",
       "      <th>review_score</th>\n",
       "      <th>seller_city</th>\n",
       "      <th>seller_state</th>\n",
       "      <th>product_volume_cm3</th>\n",
       "      <th>order_purchase_month</th>\n",
       "      <th>order_delivery_delay</th>\n",
       "      <th>customer_region</th>\n",
       "    </tr>\n",
       "  </thead>\n",
       "  <tbody>\n",
       "    <tr>\n",
       "      <th>0</th>\n",
       "      <td>00010242fe8c5a6d1ba2dd792cb16214</td>\n",
       "      <td>1</td>\n",
       "      <td>4244733e06e7ecb4970a6e2683c13e61</td>\n",
       "      <td>48436dade18ac8b2bce089ec2a041202</td>\n",
       "      <td>2017-09-19 09:45:35</td>\n",
       "      <td>58.90</td>\n",
       "      <td>13.29</td>\n",
       "      <td>cool_stuff</td>\n",
       "      <td>58.0</td>\n",
       "      <td>598.0</td>\n",
       "      <td>4.0</td>\n",
       "      <td>650.0</td>\n",
       "      <td>3ce436f183e68e07877b285a838db11a</td>\n",
       "      <td>delivered</td>\n",
       "      <td>2017-09-19 18:34:16</td>\n",
       "      <td>871766c5855e863f6eccc05f988b23cb</td>\n",
       "      <td>campos dos goytacazes</td>\n",
       "      <td>RJ</td>\n",
       "      <td>5.0</td>\n",
       "      <td>volta redonda</td>\n",
       "      <td>SP</td>\n",
       "      <td>3528.0</td>\n",
       "      <td>2017-09</td>\n",
       "      <td>-9.0</td>\n",
       "      <td>Sudeste</td>\n",
       "    </tr>\n",
       "    <tr>\n",
       "      <th>1</th>\n",
       "      <td>00018f77f2f0320c557190d7a144bdd3</td>\n",
       "      <td>1</td>\n",
       "      <td>e5f2d52b802189ee658865ca93d83a8f</td>\n",
       "      <td>dd7ddc04e1b6c2c614352b383efe2d36</td>\n",
       "      <td>2017-05-03 11:05:13</td>\n",
       "      <td>239.90</td>\n",
       "      <td>19.93</td>\n",
       "      <td>pet_shop</td>\n",
       "      <td>56.0</td>\n",
       "      <td>239.0</td>\n",
       "      <td>2.0</td>\n",
       "      <td>30000.0</td>\n",
       "      <td>f6dd3ec061db4e3987629fe6b26e5cce</td>\n",
       "      <td>delivered</td>\n",
       "      <td>2017-05-04 14:35:00</td>\n",
       "      <td>eb28e67c4c0b83846050ddfb8a35d051</td>\n",
       "      <td>santa fe do sul</td>\n",
       "      <td>SP</td>\n",
       "      <td>4.0</td>\n",
       "      <td>sao paulo</td>\n",
       "      <td>SP</td>\n",
       "      <td>60000.0</td>\n",
       "      <td>2017-04</td>\n",
       "      <td>-3.0</td>\n",
       "      <td>Sudeste</td>\n",
       "    </tr>\n",
       "    <tr>\n",
       "      <th>2</th>\n",
       "      <td>000229ec398224ef6ca0657da4fc703e</td>\n",
       "      <td>1</td>\n",
       "      <td>c777355d18b72b67abbeef9df44fd0fd</td>\n",
       "      <td>5b51032eddd242adc84c38acab88f23d</td>\n",
       "      <td>2018-01-18 14:48:30</td>\n",
       "      <td>199.00</td>\n",
       "      <td>17.87</td>\n",
       "      <td>moveis_decoracao</td>\n",
       "      <td>59.0</td>\n",
       "      <td>695.0</td>\n",
       "      <td>2.0</td>\n",
       "      <td>3050.0</td>\n",
       "      <td>6489ae5e4333f3693df5ad4372dab6d3</td>\n",
       "      <td>delivered</td>\n",
       "      <td>2018-01-16 12:36:48</td>\n",
       "      <td>3818d81c6709e39d06b2738a8d3a2474</td>\n",
       "      <td>para de minas</td>\n",
       "      <td>MG</td>\n",
       "      <td>5.0</td>\n",
       "      <td>borda da mata</td>\n",
       "      <td>MG</td>\n",
       "      <td>14157.0</td>\n",
       "      <td>2018-01</td>\n",
       "      <td>-14.0</td>\n",
       "      <td>Sudeste</td>\n",
       "    </tr>\n",
       "    <tr>\n",
       "      <th>3</th>\n",
       "      <td>00024acbcdf0a6daa1e931b038114c75</td>\n",
       "      <td>1</td>\n",
       "      <td>7634da152a4610f1595efa32f14722fc</td>\n",
       "      <td>9d7a1d34a5052409006425275ba1c2b4</td>\n",
       "      <td>2018-08-15 10:10:18</td>\n",
       "      <td>12.99</td>\n",
       "      <td>12.79</td>\n",
       "      <td>perfumaria</td>\n",
       "      <td>42.0</td>\n",
       "      <td>480.0</td>\n",
       "      <td>1.0</td>\n",
       "      <td>200.0</td>\n",
       "      <td>d4eb9395c8c0431ee92fce09860c5a06</td>\n",
       "      <td>delivered</td>\n",
       "      <td>2018-08-10 13:28:00</td>\n",
       "      <td>af861d436cfc08b2c2ddefd0ba074622</td>\n",
       "      <td>atibaia</td>\n",
       "      <td>SP</td>\n",
       "      <td>4.0</td>\n",
       "      <td>franca</td>\n",
       "      <td>SP</td>\n",
       "      <td>2400.0</td>\n",
       "      <td>2018-08</td>\n",
       "      <td>-6.0</td>\n",
       "      <td>Sudeste</td>\n",
       "    </tr>\n",
       "    <tr>\n",
       "      <th>4</th>\n",
       "      <td>00042b26cf59d7ce69dfabb4e55b4fd9</td>\n",
       "      <td>1</td>\n",
       "      <td>ac6c3623068f30de03045865e4e10089</td>\n",
       "      <td>df560393f3a51e74553ab94004ba5c87</td>\n",
       "      <td>2017-02-13 13:57:51</td>\n",
       "      <td>199.90</td>\n",
       "      <td>18.14</td>\n",
       "      <td>ferramentas_jardim</td>\n",
       "      <td>59.0</td>\n",
       "      <td>409.0</td>\n",
       "      <td>1.0</td>\n",
       "      <td>3750.0</td>\n",
       "      <td>58dbd0b2d70206bf40e62cd34e84d795</td>\n",
       "      <td>delivered</td>\n",
       "      <td>2017-02-16 09:46:09</td>\n",
       "      <td>64b576fb70d441e8f1b2d7d446e483c5</td>\n",
       "      <td>varzea paulista</td>\n",
       "      <td>SP</td>\n",
       "      <td>5.0</td>\n",
       "      <td>loanda</td>\n",
       "      <td>PR</td>\n",
       "      <td>42000.0</td>\n",
       "      <td>2017-02</td>\n",
       "      <td>-16.0</td>\n",
       "      <td>Sudeste</td>\n",
       "    </tr>\n",
       "  </tbody>\n",
       "</table>\n",
       "</div>"
      ],
      "text/plain": [
       "                           order_id  order_item_id  \\\n",
       "0  00010242fe8c5a6d1ba2dd792cb16214              1   \n",
       "1  00018f77f2f0320c557190d7a144bdd3              1   \n",
       "2  000229ec398224ef6ca0657da4fc703e              1   \n",
       "3  00024acbcdf0a6daa1e931b038114c75              1   \n",
       "4  00042b26cf59d7ce69dfabb4e55b4fd9              1   \n",
       "\n",
       "                         product_id                         seller_id  \\\n",
       "0  4244733e06e7ecb4970a6e2683c13e61  48436dade18ac8b2bce089ec2a041202   \n",
       "1  e5f2d52b802189ee658865ca93d83a8f  dd7ddc04e1b6c2c614352b383efe2d36   \n",
       "2  c777355d18b72b67abbeef9df44fd0fd  5b51032eddd242adc84c38acab88f23d   \n",
       "3  7634da152a4610f1595efa32f14722fc  9d7a1d34a5052409006425275ba1c2b4   \n",
       "4  ac6c3623068f30de03045865e4e10089  df560393f3a51e74553ab94004ba5c87   \n",
       "\n",
       "   shipping_limit_date   price  freight_value product_category_name  \\\n",
       "0  2017-09-19 09:45:35   58.90          13.29            cool_stuff   \n",
       "1  2017-05-03 11:05:13  239.90          19.93              pet_shop   \n",
       "2  2018-01-18 14:48:30  199.00          17.87      moveis_decoracao   \n",
       "3  2018-08-15 10:10:18   12.99          12.79            perfumaria   \n",
       "4  2017-02-13 13:57:51  199.90          18.14    ferramentas_jardim   \n",
       "\n",
       "   product_name_lenght  product_description_lenght  product_photos_qty  \\\n",
       "0                 58.0                       598.0                 4.0   \n",
       "1                 56.0                       239.0                 2.0   \n",
       "2                 59.0                       695.0                 2.0   \n",
       "3                 42.0                       480.0                 1.0   \n",
       "4                 59.0                       409.0                 1.0   \n",
       "\n",
       "   product_weight_g                       customer_id order_status  \\\n",
       "0             650.0  3ce436f183e68e07877b285a838db11a    delivered   \n",
       "1           30000.0  f6dd3ec061db4e3987629fe6b26e5cce    delivered   \n",
       "2            3050.0  6489ae5e4333f3693df5ad4372dab6d3    delivered   \n",
       "3             200.0  d4eb9395c8c0431ee92fce09860c5a06    delivered   \n",
       "4            3750.0  58dbd0b2d70206bf40e62cd34e84d795    delivered   \n",
       "\n",
       "  order_delivered_carrier_date                customer_unique_id  \\\n",
       "0          2017-09-19 18:34:16  871766c5855e863f6eccc05f988b23cb   \n",
       "1          2017-05-04 14:35:00  eb28e67c4c0b83846050ddfb8a35d051   \n",
       "2          2018-01-16 12:36:48  3818d81c6709e39d06b2738a8d3a2474   \n",
       "3          2018-08-10 13:28:00  af861d436cfc08b2c2ddefd0ba074622   \n",
       "4          2017-02-16 09:46:09  64b576fb70d441e8f1b2d7d446e483c5   \n",
       "\n",
       "           customer_city customer_state  review_score    seller_city  \\\n",
       "0  campos dos goytacazes             RJ           5.0  volta redonda   \n",
       "1        santa fe do sul             SP           4.0      sao paulo   \n",
       "2          para de minas             MG           5.0  borda da mata   \n",
       "3                atibaia             SP           4.0         franca   \n",
       "4        varzea paulista             SP           5.0         loanda   \n",
       "\n",
       "  seller_state  product_volume_cm3 order_purchase_month  order_delivery_delay  \\\n",
       "0           SP              3528.0              2017-09                  -9.0   \n",
       "1           SP             60000.0              2017-04                  -3.0   \n",
       "2           MG             14157.0              2018-01                 -14.0   \n",
       "3           SP              2400.0              2018-08                  -6.0   \n",
       "4           PR             42000.0              2017-02                 -16.0   \n",
       "\n",
       "  customer_region  \n",
       "0         Sudeste  \n",
       "1         Sudeste  \n",
       "2         Sudeste  \n",
       "3         Sudeste  \n",
       "4         Sudeste  "
      ]
     },
     "execution_count": 286,
     "metadata": {},
     "output_type": "execute_result"
    }
   ],
   "source": [
    "df.head()"
   ]
  },
  {
   "cell_type": "code",
   "execution_count": 287,
   "metadata": {},
   "outputs": [
    {
     "data": {
      "text/html": [
       "<div>\n",
       "<style scoped>\n",
       "    .dataframe tbody tr th:only-of-type {\n",
       "        vertical-align: middle;\n",
       "    }\n",
       "\n",
       "    .dataframe tbody tr th {\n",
       "        vertical-align: top;\n",
       "    }\n",
       "\n",
       "    .dataframe thead th {\n",
       "        text-align: right;\n",
       "    }\n",
       "</style>\n",
       "<table border=\"1\" class=\"dataframe\">\n",
       "  <thead>\n",
       "    <tr style=\"text-align: right;\">\n",
       "      <th></th>\n",
       "      <th>order_id</th>\n",
       "      <th>order_item_id</th>\n",
       "      <th>product_id</th>\n",
       "      <th>seller_id</th>\n",
       "      <th>shipping_limit_date</th>\n",
       "      <th>price</th>\n",
       "      <th>freight_value</th>\n",
       "      <th>product_category_name</th>\n",
       "      <th>product_name_lenght</th>\n",
       "      <th>product_description_lenght</th>\n",
       "      <th>product_photos_qty</th>\n",
       "      <th>product_weight_g</th>\n",
       "      <th>customer_id</th>\n",
       "      <th>order_status</th>\n",
       "      <th>order_delivered_carrier_date</th>\n",
       "      <th>customer_unique_id</th>\n",
       "      <th>customer_city</th>\n",
       "      <th>customer_state</th>\n",
       "      <th>review_score</th>\n",
       "      <th>seller_city</th>\n",
       "      <th>seller_state</th>\n",
       "      <th>product_volume_cm3</th>\n",
       "      <th>order_purchase_month</th>\n",
       "      <th>order_delivery_delay</th>\n",
       "      <th>customer_region</th>\n",
       "    </tr>\n",
       "  </thead>\n",
       "  <tbody>\n",
       "    <tr>\n",
       "      <th>2588</th>\n",
       "      <td>0607f0efea4b566f1eb8f7d3c2397320</td>\n",
       "      <td>1</td>\n",
       "      <td>952ef4ed720bf5d77f42712da90f2f49</td>\n",
       "      <td>903037660cf848a717166eb7a06d616e</td>\n",
       "      <td>2018-03-13 09:55:47</td>\n",
       "      <td>62.99</td>\n",
       "      <td>10.09</td>\n",
       "      <td>moveis_decoracao</td>\n",
       "      <td>24.0</td>\n",
       "      <td>229.0</td>\n",
       "      <td>1.0</td>\n",
       "      <td>5300.0</td>\n",
       "      <td>a5fbb6579eacbeb02752a143bfe82405</td>\n",
       "      <td>delivered</td>\n",
       "      <td>2018-03-07 21:33:39</td>\n",
       "      <td>85895a0452aba21c4bb0e5b0e1b5e6eb</td>\n",
       "      <td>sumare</td>\n",
       "      <td>SP</td>\n",
       "      <td>5.0</td>\n",
       "      <td>sao paulo</td>\n",
       "      <td>SP</td>\n",
       "      <td>12348.0</td>\n",
       "      <td>2018-03</td>\n",
       "      <td>-147.0</td>\n",
       "      <td>Sudeste</td>\n",
       "    </tr>\n",
       "    <tr>\n",
       "      <th>2589</th>\n",
       "      <td>0607f0efea4b566f1eb8f7d3c2397320</td>\n",
       "      <td>2</td>\n",
       "      <td>952ef4ed720bf5d77f42712da90f2f49</td>\n",
       "      <td>903037660cf848a717166eb7a06d616e</td>\n",
       "      <td>2018-03-13 09:55:47</td>\n",
       "      <td>62.99</td>\n",
       "      <td>10.09</td>\n",
       "      <td>moveis_decoracao</td>\n",
       "      <td>24.0</td>\n",
       "      <td>229.0</td>\n",
       "      <td>1.0</td>\n",
       "      <td>5300.0</td>\n",
       "      <td>a5fbb6579eacbeb02752a143bfe82405</td>\n",
       "      <td>delivered</td>\n",
       "      <td>2018-03-07 21:33:39</td>\n",
       "      <td>85895a0452aba21c4bb0e5b0e1b5e6eb</td>\n",
       "      <td>sumare</td>\n",
       "      <td>SP</td>\n",
       "      <td>5.0</td>\n",
       "      <td>sao paulo</td>\n",
       "      <td>SP</td>\n",
       "      <td>12348.0</td>\n",
       "      <td>2018-03</td>\n",
       "      <td>-147.0</td>\n",
       "      <td>Sudeste</td>\n",
       "    </tr>\n",
       "    <tr>\n",
       "      <th>84497</th>\n",
       "      <td>c72727d29cde4cf870d569bf65edabfd</td>\n",
       "      <td>1</td>\n",
       "      <td>ee2f96cb63d491d963a67285f048775a</td>\n",
       "      <td>fce62094ffe6a4009188ec44e681dfdd</td>\n",
       "      <td>2017-05-12 17:01:15</td>\n",
       "      <td>25.90</td>\n",
       "      <td>26.09</td>\n",
       "      <td>market_place</td>\n",
       "      <td>62.0</td>\n",
       "      <td>1044.0</td>\n",
       "      <td>1.0</td>\n",
       "      <td>700.0</td>\n",
       "      <td>964253ff0e4e08180064764a450e521f</td>\n",
       "      <td>delivered</td>\n",
       "      <td>2017-02-10 05:32:55</td>\n",
       "      <td>31954fc2c9d7b714d49ee440cc8ab01f</td>\n",
       "      <td>sao luis</td>\n",
       "      <td>MA</td>\n",
       "      <td>5.0</td>\n",
       "      <td>sao paulo</td>\n",
       "      <td>SP</td>\n",
       "      <td>8000.0</td>\n",
       "      <td>2017-02</td>\n",
       "      <td>-140.0</td>\n",
       "      <td>Nordeste</td>\n",
       "    </tr>\n",
       "    <tr>\n",
       "      <th>101190</th>\n",
       "      <td>eec7f369423b033e549c02f3c5381205</td>\n",
       "      <td>1</td>\n",
       "      <td>29dcc20b00ccb0dd2136eb2f4c5f3847</td>\n",
       "      <td>903037660cf848a717166eb7a06d616e</td>\n",
       "      <td>2018-02-14 10:10:31</td>\n",
       "      <td>252.99</td>\n",
       "      <td>19.02</td>\n",
       "      <td>moveis_decoracao</td>\n",
       "      <td>46.0</td>\n",
       "      <td>192.0</td>\n",
       "      <td>1.0</td>\n",
       "      <td>1700.0</td>\n",
       "      <td>32cef4bdd6bfa50612d81dc77a93b131</td>\n",
       "      <td>delivered</td>\n",
       "      <td>2018-02-15 20:42:12</td>\n",
       "      <td>f83958e993a7f2c3fb301981bbf6deb6</td>\n",
       "      <td>sao gabriel</td>\n",
       "      <td>RS</td>\n",
       "      <td>3.0</td>\n",
       "      <td>sao paulo</td>\n",
       "      <td>SP</td>\n",
       "      <td>16000.0</td>\n",
       "      <td>2018-02</td>\n",
       "      <td>-135.0</td>\n",
       "      <td>Sul</td>\n",
       "    </tr>\n",
       "    <tr>\n",
       "      <th>82563</th>\n",
       "      <td>c2bb89b5c1dd978d507284be78a04cb2</td>\n",
       "      <td>2</td>\n",
       "      <td>87b92e06b320e803d334ac23966c80b1</td>\n",
       "      <td>7a241947449cc45dbfda4f9d0798d9d0</td>\n",
       "      <td>2020-04-09 22:35:08</td>\n",
       "      <td>99.99</td>\n",
       "      <td>61.44</td>\n",
       "      <td>utilidades_domesticas</td>\n",
       "      <td>58.0</td>\n",
       "      <td>914.0</td>\n",
       "      <td>5.0</td>\n",
       "      <td>15000.0</td>\n",
       "      <td>6357fffb5704244d552615bbfcea1442</td>\n",
       "      <td>delivered</td>\n",
       "      <td>2017-05-29 02:03:28</td>\n",
       "      <td>44b6bbfea26596437062a38c8e6bcec1</td>\n",
       "      <td>sao jose do rio preto</td>\n",
       "      <td>SP</td>\n",
       "      <td>5.0</td>\n",
       "      <td>jacutinga</td>\n",
       "      <td>MG</td>\n",
       "      <td>26250.0</td>\n",
       "      <td>2017-05</td>\n",
       "      <td>-124.0</td>\n",
       "      <td>Sudeste</td>\n",
       "    </tr>\n",
       "    <tr>\n",
       "      <th>...</th>\n",
       "      <td>...</td>\n",
       "      <td>...</td>\n",
       "      <td>...</td>\n",
       "      <td>...</td>\n",
       "      <td>...</td>\n",
       "      <td>...</td>\n",
       "      <td>...</td>\n",
       "      <td>...</td>\n",
       "      <td>...</td>\n",
       "      <td>...</td>\n",
       "      <td>...</td>\n",
       "      <td>...</td>\n",
       "      <td>...</td>\n",
       "      <td>...</td>\n",
       "      <td>...</td>\n",
       "      <td>...</td>\n",
       "      <td>...</td>\n",
       "      <td>...</td>\n",
       "      <td>...</td>\n",
       "      <td>...</td>\n",
       "      <td>...</td>\n",
       "      <td>...</td>\n",
       "      <td>...</td>\n",
       "      <td>...</td>\n",
       "      <td>...</td>\n",
       "    </tr>\n",
       "    <tr>\n",
       "      <th>28812</th>\n",
       "      <td>440d0d17af552815d15a9e41abe49359</td>\n",
       "      <td>1</td>\n",
       "      <td>3bec03860f3782ef8993056e01b8229a</td>\n",
       "      <td>2a1348e9addc1af5aaa619b1a3679d6b</td>\n",
       "      <td>2017-03-15 01:11:33</td>\n",
       "      <td>159.90</td>\n",
       "      <td>25.12</td>\n",
       "      <td>consoles_games</td>\n",
       "      <td>36.0</td>\n",
       "      <td>156.0</td>\n",
       "      <td>1.0</td>\n",
       "      <td>400.0</td>\n",
       "      <td>7815125148cfa1e8c7fee1ff7974f16c</td>\n",
       "      <td>delivered</td>\n",
       "      <td>2017-03-15 13:00:08</td>\n",
       "      <td>f0785d41d416fa827f24c4b95d066b69</td>\n",
       "      <td>belem</td>\n",
       "      <td>PA</td>\n",
       "      <td>1.0</td>\n",
       "      <td>belo horizonte</td>\n",
       "      <td>MG</td>\n",
       "      <td>352.0</td>\n",
       "      <td>2017-03</td>\n",
       "      <td>165.0</td>\n",
       "      <td>Norte</td>\n",
       "    </tr>\n",
       "    <tr>\n",
       "      <th>16949</th>\n",
       "      <td>285ab9426d6982034523a855f55a885e</td>\n",
       "      <td>1</td>\n",
       "      <td>0c6fc9b9317a68d1cda098c063914b72</td>\n",
       "      <td>c847e075301870dd144a116762eaff9a</td>\n",
       "      <td>2017-03-16 22:47:40</td>\n",
       "      <td>429.90</td>\n",
       "      <td>27.75</td>\n",
       "      <td>instrumentos_musicais</td>\n",
       "      <td>46.0</td>\n",
       "      <td>692.0</td>\n",
       "      <td>3.0</td>\n",
       "      <td>3100.0</td>\n",
       "      <td>9cf2c3fa2632cee748e1a59ca9d09b21</td>\n",
       "      <td>delivered</td>\n",
       "      <td>2017-03-09 08:53:20</td>\n",
       "      <td>3c2564d42f7ddd8b7576f0dd9cb1b4c5</td>\n",
       "      <td>lagarto</td>\n",
       "      <td>SE</td>\n",
       "      <td>1.0</td>\n",
       "      <td>uberaba</td>\n",
       "      <td>MG</td>\n",
       "      <td>52668.0</td>\n",
       "      <td>2017-03</td>\n",
       "      <td>166.0</td>\n",
       "      <td>Nordeste</td>\n",
       "    </tr>\n",
       "    <tr>\n",
       "      <th>20154</th>\n",
       "      <td>2fe324febf907e3ea3f2aa9650869fa5</td>\n",
       "      <td>1</td>\n",
       "      <td>b75683e29689c1a989ae97883e8cad56</td>\n",
       "      <td>df683dfda87bf71ac3fc63063fba369d</td>\n",
       "      <td>2017-03-17 20:17:10</td>\n",
       "      <td>39.90</td>\n",
       "      <td>16.05</td>\n",
       "      <td>moveis_decoracao</td>\n",
       "      <td>40.0</td>\n",
       "      <td>966.0</td>\n",
       "      <td>3.0</td>\n",
       "      <td>400.0</td>\n",
       "      <td>65b14237885b3972ebec28c0f7dd2220</td>\n",
       "      <td>delivered</td>\n",
       "      <td>2017-03-17 07:23:53</td>\n",
       "      <td>78d26ae26b5bb9cb398edc7384d3c15f</td>\n",
       "      <td>paulinia</td>\n",
       "      <td>SP</td>\n",
       "      <td>1.0</td>\n",
       "      <td>farroupilha</td>\n",
       "      <td>RS</td>\n",
       "      <td>19440.0</td>\n",
       "      <td>2017-03</td>\n",
       "      <td>167.0</td>\n",
       "      <td>Sudeste</td>\n",
       "    </tr>\n",
       "    <tr>\n",
       "      <th>30430</th>\n",
       "      <td>47b40429ed8cce3aee9199792275433f</td>\n",
       "      <td>1</td>\n",
       "      <td>ebf1c13032246ea801765e8cb5417365</td>\n",
       "      <td>cb41bfbcbda0aea354a834ab222f9a59</td>\n",
       "      <td>2018-01-09 10:31:15</td>\n",
       "      <td>399.00</td>\n",
       "      <td>54.33</td>\n",
       "      <td>casa_construcao</td>\n",
       "      <td>39.0</td>\n",
       "      <td>1190.0</td>\n",
       "      <td>2.0</td>\n",
       "      <td>30000.0</td>\n",
       "      <td>cb2caaaead400c97350c37a3fc536867</td>\n",
       "      <td>delivered</td>\n",
       "      <td>2018-02-06 01:48:28</td>\n",
       "      <td>4cb8ad9a4554099db7d70c13d0dae906</td>\n",
       "      <td>salto</td>\n",
       "      <td>SP</td>\n",
       "      <td>1.0</td>\n",
       "      <td>sao paulo</td>\n",
       "      <td>SP</td>\n",
       "      <td>200000.0</td>\n",
       "      <td>2018-01</td>\n",
       "      <td>175.0</td>\n",
       "      <td>Sudeste</td>\n",
       "    </tr>\n",
       "    <tr>\n",
       "      <th>11554</th>\n",
       "      <td>1b3190b2dfa9d789e1f14c05b647a14a</td>\n",
       "      <td>1</td>\n",
       "      <td>ee406bf28024d97771c4b1e8b7e8e219</td>\n",
       "      <td>7a67c85e85bb2ce8582c35f2203ad736</td>\n",
       "      <td>2018-03-01 15:16:14</td>\n",
       "      <td>144.99</td>\n",
       "      <td>17.26</td>\n",
       "      <td>cool_stuff</td>\n",
       "      <td>54.0</td>\n",
       "      <td>629.0</td>\n",
       "      <td>1.0</td>\n",
       "      <td>1050.0</td>\n",
       "      <td>d306426abe5fca15e54b645e4462dc7b</td>\n",
       "      <td>delivered</td>\n",
       "      <td>2018-02-26 18:49:07</td>\n",
       "      <td>eb21169c3153a2b507fc7e76d561ff14</td>\n",
       "      <td>rio de janeiro</td>\n",
       "      <td>RJ</td>\n",
       "      <td>2.0</td>\n",
       "      <td>sao paulo</td>\n",
       "      <td>SP</td>\n",
       "      <td>19008.0</td>\n",
       "      <td>2018-02</td>\n",
       "      <td>188.0</td>\n",
       "      <td>Sudeste</td>\n",
       "    </tr>\n",
       "  </tbody>\n",
       "</table>\n",
       "<p>108456 rows × 25 columns</p>\n",
       "</div>"
      ],
      "text/plain": [
       "                                order_id  order_item_id  \\\n",
       "2588    0607f0efea4b566f1eb8f7d3c2397320              1   \n",
       "2589    0607f0efea4b566f1eb8f7d3c2397320              2   \n",
       "84497   c72727d29cde4cf870d569bf65edabfd              1   \n",
       "101190  eec7f369423b033e549c02f3c5381205              1   \n",
       "82563   c2bb89b5c1dd978d507284be78a04cb2              2   \n",
       "...                                  ...            ...   \n",
       "28812   440d0d17af552815d15a9e41abe49359              1   \n",
       "16949   285ab9426d6982034523a855f55a885e              1   \n",
       "20154   2fe324febf907e3ea3f2aa9650869fa5              1   \n",
       "30430   47b40429ed8cce3aee9199792275433f              1   \n",
       "11554   1b3190b2dfa9d789e1f14c05b647a14a              1   \n",
       "\n",
       "                              product_id                         seller_id  \\\n",
       "2588    952ef4ed720bf5d77f42712da90f2f49  903037660cf848a717166eb7a06d616e   \n",
       "2589    952ef4ed720bf5d77f42712da90f2f49  903037660cf848a717166eb7a06d616e   \n",
       "84497   ee2f96cb63d491d963a67285f048775a  fce62094ffe6a4009188ec44e681dfdd   \n",
       "101190  29dcc20b00ccb0dd2136eb2f4c5f3847  903037660cf848a717166eb7a06d616e   \n",
       "82563   87b92e06b320e803d334ac23966c80b1  7a241947449cc45dbfda4f9d0798d9d0   \n",
       "...                                  ...                               ...   \n",
       "28812   3bec03860f3782ef8993056e01b8229a  2a1348e9addc1af5aaa619b1a3679d6b   \n",
       "16949   0c6fc9b9317a68d1cda098c063914b72  c847e075301870dd144a116762eaff9a   \n",
       "20154   b75683e29689c1a989ae97883e8cad56  df683dfda87bf71ac3fc63063fba369d   \n",
       "30430   ebf1c13032246ea801765e8cb5417365  cb41bfbcbda0aea354a834ab222f9a59   \n",
       "11554   ee406bf28024d97771c4b1e8b7e8e219  7a67c85e85bb2ce8582c35f2203ad736   \n",
       "\n",
       "        shipping_limit_date   price  freight_value  product_category_name  \\\n",
       "2588    2018-03-13 09:55:47   62.99          10.09       moveis_decoracao   \n",
       "2589    2018-03-13 09:55:47   62.99          10.09       moveis_decoracao   \n",
       "84497   2017-05-12 17:01:15   25.90          26.09           market_place   \n",
       "101190  2018-02-14 10:10:31  252.99          19.02       moveis_decoracao   \n",
       "82563   2020-04-09 22:35:08   99.99          61.44  utilidades_domesticas   \n",
       "...                     ...     ...            ...                    ...   \n",
       "28812   2017-03-15 01:11:33  159.90          25.12         consoles_games   \n",
       "16949   2017-03-16 22:47:40  429.90          27.75  instrumentos_musicais   \n",
       "20154   2017-03-17 20:17:10   39.90          16.05       moveis_decoracao   \n",
       "30430   2018-01-09 10:31:15  399.00          54.33        casa_construcao   \n",
       "11554   2018-03-01 15:16:14  144.99          17.26             cool_stuff   \n",
       "\n",
       "        product_name_lenght  product_description_lenght  product_photos_qty  \\\n",
       "2588                   24.0                       229.0                 1.0   \n",
       "2589                   24.0                       229.0                 1.0   \n",
       "84497                  62.0                      1044.0                 1.0   \n",
       "101190                 46.0                       192.0                 1.0   \n",
       "82563                  58.0                       914.0                 5.0   \n",
       "...                     ...                         ...                 ...   \n",
       "28812                  36.0                       156.0                 1.0   \n",
       "16949                  46.0                       692.0                 3.0   \n",
       "20154                  40.0                       966.0                 3.0   \n",
       "30430                  39.0                      1190.0                 2.0   \n",
       "11554                  54.0                       629.0                 1.0   \n",
       "\n",
       "        product_weight_g                       customer_id order_status  \\\n",
       "2588              5300.0  a5fbb6579eacbeb02752a143bfe82405    delivered   \n",
       "2589              5300.0  a5fbb6579eacbeb02752a143bfe82405    delivered   \n",
       "84497              700.0  964253ff0e4e08180064764a450e521f    delivered   \n",
       "101190            1700.0  32cef4bdd6bfa50612d81dc77a93b131    delivered   \n",
       "82563            15000.0  6357fffb5704244d552615bbfcea1442    delivered   \n",
       "...                  ...                               ...          ...   \n",
       "28812              400.0  7815125148cfa1e8c7fee1ff7974f16c    delivered   \n",
       "16949             3100.0  9cf2c3fa2632cee748e1a59ca9d09b21    delivered   \n",
       "20154              400.0  65b14237885b3972ebec28c0f7dd2220    delivered   \n",
       "30430            30000.0  cb2caaaead400c97350c37a3fc536867    delivered   \n",
       "11554             1050.0  d306426abe5fca15e54b645e4462dc7b    delivered   \n",
       "\n",
       "       order_delivered_carrier_date                customer_unique_id  \\\n",
       "2588            2018-03-07 21:33:39  85895a0452aba21c4bb0e5b0e1b5e6eb   \n",
       "2589            2018-03-07 21:33:39  85895a0452aba21c4bb0e5b0e1b5e6eb   \n",
       "84497           2017-02-10 05:32:55  31954fc2c9d7b714d49ee440cc8ab01f   \n",
       "101190          2018-02-15 20:42:12  f83958e993a7f2c3fb301981bbf6deb6   \n",
       "82563           2017-05-29 02:03:28  44b6bbfea26596437062a38c8e6bcec1   \n",
       "...                             ...                               ...   \n",
       "28812           2017-03-15 13:00:08  f0785d41d416fa827f24c4b95d066b69   \n",
       "16949           2017-03-09 08:53:20  3c2564d42f7ddd8b7576f0dd9cb1b4c5   \n",
       "20154           2017-03-17 07:23:53  78d26ae26b5bb9cb398edc7384d3c15f   \n",
       "30430           2018-02-06 01:48:28  4cb8ad9a4554099db7d70c13d0dae906   \n",
       "11554           2018-02-26 18:49:07  eb21169c3153a2b507fc7e76d561ff14   \n",
       "\n",
       "                customer_city customer_state  review_score     seller_city  \\\n",
       "2588                   sumare             SP           5.0       sao paulo   \n",
       "2589                   sumare             SP           5.0       sao paulo   \n",
       "84497                sao luis             MA           5.0       sao paulo   \n",
       "101190            sao gabriel             RS           3.0       sao paulo   \n",
       "82563   sao jose do rio preto             SP           5.0       jacutinga   \n",
       "...                       ...            ...           ...             ...   \n",
       "28812                   belem             PA           1.0  belo horizonte   \n",
       "16949                 lagarto             SE           1.0         uberaba   \n",
       "20154                paulinia             SP           1.0     farroupilha   \n",
       "30430                   salto             SP           1.0       sao paulo   \n",
       "11554          rio de janeiro             RJ           2.0       sao paulo   \n",
       "\n",
       "       seller_state  product_volume_cm3 order_purchase_month  \\\n",
       "2588             SP             12348.0              2018-03   \n",
       "2589             SP             12348.0              2018-03   \n",
       "84497            SP              8000.0              2017-02   \n",
       "101190           SP             16000.0              2018-02   \n",
       "82563            MG             26250.0              2017-05   \n",
       "...             ...                 ...                  ...   \n",
       "28812            MG               352.0              2017-03   \n",
       "16949            MG             52668.0              2017-03   \n",
       "20154            RS             19440.0              2017-03   \n",
       "30430            SP            200000.0              2018-01   \n",
       "11554            SP             19008.0              2018-02   \n",
       "\n",
       "        order_delivery_delay customer_region  \n",
       "2588                  -147.0         Sudeste  \n",
       "2589                  -147.0         Sudeste  \n",
       "84497                 -140.0        Nordeste  \n",
       "101190                -135.0             Sul  \n",
       "82563                 -124.0         Sudeste  \n",
       "...                      ...             ...  \n",
       "28812                  165.0           Norte  \n",
       "16949                  166.0        Nordeste  \n",
       "20154                  167.0         Sudeste  \n",
       "30430                  175.0         Sudeste  \n",
       "11554                  188.0         Sudeste  \n",
       "\n",
       "[108456 rows x 25 columns]"
      ]
     },
     "execution_count": 287,
     "metadata": {},
     "output_type": "execute_result"
    }
   ],
   "source": [
    "df.sort_values(by=\"order_delivery_delay\")"
   ]
  },
  {
   "cell_type": "code",
   "execution_count": 288,
   "metadata": {},
   "outputs": [
    {
     "data": {
      "text/html": [
       "<div>\n",
       "<style scoped>\n",
       "    .dataframe tbody tr th:only-of-type {\n",
       "        vertical-align: middle;\n",
       "    }\n",
       "\n",
       "    .dataframe tbody tr th {\n",
       "        vertical-align: top;\n",
       "    }\n",
       "\n",
       "    .dataframe thead th {\n",
       "        text-align: right;\n",
       "    }\n",
       "</style>\n",
       "<table border=\"1\" class=\"dataframe\">\n",
       "  <thead>\n",
       "    <tr style=\"text-align: right;\">\n",
       "      <th></th>\n",
       "      <th>count</th>\n",
       "      <th>mean</th>\n",
       "      <th>std</th>\n",
       "      <th>min</th>\n",
       "      <th>25%</th>\n",
       "      <th>50%</th>\n",
       "      <th>75%</th>\n",
       "      <th>max</th>\n",
       "    </tr>\n",
       "  </thead>\n",
       "  <tbody>\n",
       "    <tr>\n",
       "      <th>order_item_id</th>\n",
       "      <td>108456.0</td>\n",
       "      <td>1.196799</td>\n",
       "      <td>0.694343</td>\n",
       "      <td>1.00</td>\n",
       "      <td>1.00</td>\n",
       "      <td>1.00</td>\n",
       "      <td>1.00</td>\n",
       "      <td>21.00</td>\n",
       "    </tr>\n",
       "    <tr>\n",
       "      <th>price</th>\n",
       "      <td>108456.0</td>\n",
       "      <td>119.799598</td>\n",
       "      <td>180.466838</td>\n",
       "      <td>0.85</td>\n",
       "      <td>39.90</td>\n",
       "      <td>74.90</td>\n",
       "      <td>134.00</td>\n",
       "      <td>6735.00</td>\n",
       "    </tr>\n",
       "    <tr>\n",
       "      <th>freight_value</th>\n",
       "      <td>108456.0</td>\n",
       "      <td>19.966986</td>\n",
       "      <td>15.700238</td>\n",
       "      <td>0.00</td>\n",
       "      <td>13.08</td>\n",
       "      <td>16.28</td>\n",
       "      <td>21.15</td>\n",
       "      <td>409.68</td>\n",
       "    </tr>\n",
       "    <tr>\n",
       "      <th>product_name_lenght</th>\n",
       "      <td>108456.0</td>\n",
       "      <td>48.812025</td>\n",
       "      <td>10.006308</td>\n",
       "      <td>5.00</td>\n",
       "      <td>42.00</td>\n",
       "      <td>52.00</td>\n",
       "      <td>57.00</td>\n",
       "      <td>76.00</td>\n",
       "    </tr>\n",
       "    <tr>\n",
       "      <th>product_description_lenght</th>\n",
       "      <td>108456.0</td>\n",
       "      <td>786.348058</td>\n",
       "      <td>650.816003</td>\n",
       "      <td>4.00</td>\n",
       "      <td>347.00</td>\n",
       "      <td>601.00</td>\n",
       "      <td>985.00</td>\n",
       "      <td>3992.00</td>\n",
       "    </tr>\n",
       "    <tr>\n",
       "      <th>product_photos_qty</th>\n",
       "      <td>108456.0</td>\n",
       "      <td>2.208204</td>\n",
       "      <td>1.719952</td>\n",
       "      <td>1.00</td>\n",
       "      <td>1.00</td>\n",
       "      <td>1.00</td>\n",
       "      <td>3.00</td>\n",
       "      <td>20.00</td>\n",
       "    </tr>\n",
       "    <tr>\n",
       "      <th>product_weight_g</th>\n",
       "      <td>108456.0</td>\n",
       "      <td>2091.853046</td>\n",
       "      <td>3739.471478</td>\n",
       "      <td>0.00</td>\n",
       "      <td>300.00</td>\n",
       "      <td>700.00</td>\n",
       "      <td>1800.00</td>\n",
       "      <td>40425.00</td>\n",
       "    </tr>\n",
       "    <tr>\n",
       "      <th>review_score</th>\n",
       "      <td>108456.0</td>\n",
       "      <td>4.083232</td>\n",
       "      <td>1.345747</td>\n",
       "      <td>1.00</td>\n",
       "      <td>4.00</td>\n",
       "      <td>5.00</td>\n",
       "      <td>5.00</td>\n",
       "      <td>5.00</td>\n",
       "    </tr>\n",
       "    <tr>\n",
       "      <th>product_volume_cm3</th>\n",
       "      <td>108456.0</td>\n",
       "      <td>15190.665745</td>\n",
       "      <td>23186.077765</td>\n",
       "      <td>168.00</td>\n",
       "      <td>2856.00</td>\n",
       "      <td>6512.00</td>\n",
       "      <td>18240.00</td>\n",
       "      <td>296208.00</td>\n",
       "    </tr>\n",
       "    <tr>\n",
       "      <th>order_delivery_delay</th>\n",
       "      <td>108456.0</td>\n",
       "      <td>-12.077266</td>\n",
       "      <td>10.083813</td>\n",
       "      <td>-147.00</td>\n",
       "      <td>-17.00</td>\n",
       "      <td>-13.00</td>\n",
       "      <td>-7.00</td>\n",
       "      <td>188.00</td>\n",
       "    </tr>\n",
       "  </tbody>\n",
       "</table>\n",
       "</div>"
      ],
      "text/plain": [
       "                               count          mean           std     min  \\\n",
       "order_item_id               108456.0      1.196799      0.694343    1.00   \n",
       "price                       108456.0    119.799598    180.466838    0.85   \n",
       "freight_value               108456.0     19.966986     15.700238    0.00   \n",
       "product_name_lenght         108456.0     48.812025     10.006308    5.00   \n",
       "product_description_lenght  108456.0    786.348058    650.816003    4.00   \n",
       "product_photos_qty          108456.0      2.208204      1.719952    1.00   \n",
       "product_weight_g            108456.0   2091.853046   3739.471478    0.00   \n",
       "review_score                108456.0      4.083232      1.345747    1.00   \n",
       "product_volume_cm3          108456.0  15190.665745  23186.077765  168.00   \n",
       "order_delivery_delay        108456.0    -12.077266     10.083813 -147.00   \n",
       "\n",
       "                                25%      50%       75%        max  \n",
       "order_item_id                  1.00     1.00      1.00      21.00  \n",
       "price                         39.90    74.90    134.00    6735.00  \n",
       "freight_value                 13.08    16.28     21.15     409.68  \n",
       "product_name_lenght           42.00    52.00     57.00      76.00  \n",
       "product_description_lenght   347.00   601.00    985.00    3992.00  \n",
       "product_photos_qty             1.00     1.00      3.00      20.00  \n",
       "product_weight_g             300.00   700.00   1800.00   40425.00  \n",
       "review_score                   4.00     5.00      5.00       5.00  \n",
       "product_volume_cm3          2856.00  6512.00  18240.00  296208.00  \n",
       "order_delivery_delay         -17.00   -13.00     -7.00     188.00  "
      ]
     },
     "execution_count": 288,
     "metadata": {},
     "output_type": "execute_result"
    }
   ],
   "source": [
    "df.describe().T"
   ]
  },
  {
   "cell_type": "code",
   "execution_count": 289,
   "metadata": {},
   "outputs": [
    {
     "name": "stdout",
     "output_type": "stream",
     "text": [
      "<class 'pandas.core.frame.DataFrame'>\n",
      "Int64Index: 108456 entries, 0 to 108455\n",
      "Data columns (total 25 columns):\n",
      " #   Column                        Non-Null Count   Dtype    \n",
      "---  ------                        --------------   -----    \n",
      " 0   order_id                      108456 non-null  object   \n",
      " 1   order_item_id                 108456 non-null  int64    \n",
      " 2   product_id                    108456 non-null  object   \n",
      " 3   seller_id                     108456 non-null  object   \n",
      " 4   shipping_limit_date           108456 non-null  object   \n",
      " 5   price                         108456 non-null  float64  \n",
      " 6   freight_value                 108456 non-null  float64  \n",
      " 7   product_category_name         108456 non-null  object   \n",
      " 8   product_name_lenght           108456 non-null  float64  \n",
      " 9   product_description_lenght    108456 non-null  float64  \n",
      " 10  product_photos_qty            108456 non-null  float64  \n",
      " 11  product_weight_g              108456 non-null  float64  \n",
      " 12  customer_id                   108456 non-null  object   \n",
      " 13  order_status                  108456 non-null  object   \n",
      " 14  order_delivered_carrier_date  108456 non-null  object   \n",
      " 15  customer_unique_id            108456 non-null  object   \n",
      " 16  customer_city                 108456 non-null  object   \n",
      " 17  customer_state                108456 non-null  object   \n",
      " 18  review_score                  108456 non-null  float64  \n",
      " 19  seller_city                   108456 non-null  object   \n",
      " 20  seller_state                  108456 non-null  object   \n",
      " 21  product_volume_cm3            108456 non-null  float64  \n",
      " 22  order_purchase_month          108456 non-null  period[M]\n",
      " 23  order_delivery_delay          108456 non-null  float64  \n",
      " 24  customer_region               108456 non-null  object   \n",
      "dtypes: float64(9), int64(1), object(14), period[M](1)\n",
      "memory usage: 21.5+ MB\n"
     ]
    }
   ],
   "source": [
    "df.info()"
   ]
  },
  {
   "cell_type": "markdown",
   "metadata": {},
   "source": [
    "Spliting the data"
   ]
  },
  {
   "cell_type": "code",
   "execution_count": 290,
   "metadata": {},
   "outputs": [],
   "source": [
    "analytics_df = df.sample(frac=0.5, replace=False, random_state=1)\n",
    "statistics_df = df.drop(analytics_df.index)"
   ]
  },
  {
   "cell_type": "markdown",
   "metadata": {},
   "source": [
    "Exploratory Data Analysis"
   ]
  },
  {
   "cell_type": "markdown",
   "metadata": {},
   "source": [
    "Correlation Matrix"
   ]
  },
  {
   "cell_type": "code",
   "execution_count": 291,
   "metadata": {},
   "outputs": [
    {
     "data": {
      "text/plain": [
       "<AxesSubplot:>"
      ]
     },
     "execution_count": 291,
     "metadata": {},
     "output_type": "execute_result"
    },
    {
     "data": {
      "image/png": "[encoded data removed]",
      "text/plain": [
       "<Figure size 432x288 with 2 Axes>"
      ]
     },
     "metadata": {
      "needs_background": "light"
     },
     "output_type": "display_data"
    }
   ],
   "source": [
    "features = [\n",
    "    \"price\",\n",
    "    \"freight_value\",\n",
    "    \"product_description_lenght\",\n",
    "    \"product_photos_qty\",\n",
    "    \"product_weight_g\",\n",
    "    \"product_volume_cm3\",\n",
    "    \"review_score\",\n",
    "    \"order_delivery_delay\",\n",
    "]\n",
    "sns.heatmap(analytics_df[features].corr())"
   ]
  },
  {
   "cell_type": "markdown",
   "metadata": {},
   "source": [
    "Preço médio por categoria"
   ]
  },
  {
   "cell_type": "code",
   "execution_count": 292,
   "metadata": {},
   "outputs": [
    {
     "data": {
      "text/plain": [
       "<AxesSubplot:xlabel='product_category_name'>"
      ]
     },
     "execution_count": 292,
     "metadata": {},
     "output_type": "execute_result"
    },
    {
     "data": {
      "image/png": "[encoded data removed]",
      "text/plain": [
       "<Figure size 432x288 with 1 Axes>"
      ]
     },
     "metadata": {
      "needs_background": "light"
     },
     "output_type": "display_data"
    }
   ],
   "source": [
    "analytics_df.groupby(\"product_category_name\")[\"price\"].mean().sort_values(\n",
    "    ascending=False\n",
    ").head(10).plot(kind=\"bar\")"
   ]
  },
  {
   "cell_type": "markdown",
   "metadata": {},
   "source": [
    "Vendas Mensais"
   ]
  },
  {
   "cell_type": "code",
   "execution_count": 293,
   "metadata": {},
   "outputs": [
    {
     "data": {
      "text/plain": [
       "<AxesSubplot:xlabel='order_purchase_month'>"
      ]
     },
     "execution_count": 293,
     "metadata": {},
     "output_type": "execute_result"
    },
    {
     "data": {
      "image/png": "[encoded data removed]",
      "text/plain": [
       "<Figure size 432x288 with 1 Axes>"
      ]
     },
     "metadata": {
      "needs_background": "light"
     },
     "output_type": "display_data"
    }
   ],
   "source": [
    "analytics_df.groupby(\"order_purchase_month\")[\"price\"].sum().plot(kind=\"bar\")"
   ]
  },
  {
   "cell_type": "code",
   "execution_count": 294,
   "metadata": {},
   "outputs": [
    {
     "data": {
      "text/plain": [
       "<AxesSubplot:xlabel='product_category_name'>"
      ]
     },
     "execution_count": 294,
     "metadata": {},
     "output_type": "execute_result"
    },
    {
     "data": {
      "image/png": "[encoded data removed]",
      "text/plain": [
       "<Figure size 432x288 with 1 Axes>"
      ]
     },
     "metadata": {
      "needs_background": "light"
     },
     "output_type": "display_data"
    }
   ],
   "source": [
    "analytics_df.groupby(\"product_category_name\")[\"price\"].sum().sort_values(\n",
    "    ascending=False\n",
    ").head(10).plot(kind=\"bar\")"
   ]
  },
  {
   "cell_type": "code",
   "execution_count": 295,
   "metadata": {},
   "outputs": [
    {
     "data": {
      "text/plain": [
       "<AxesSubplot:xlabel='customer_state'>"
      ]
     },
     "execution_count": 295,
     "metadata": {},
     "output_type": "execute_result"
    },
    {
     "data": {
      "image/png": "[encoded data removed]",
      "text/plain": [
       "<Figure size 432x288 with 1 Axes>"
      ]
     },
     "metadata": {
      "needs_background": "light"
     },
     "output_type": "display_data"
    }
   ],
   "source": [
    "analytics_df.groupby(\"customer_state\")[\"freight_value\"].agg(\n",
    "    [\"mean\", \"median\", \"std\"]\n",
    ").sort_values(ascending=False, by=\"mean\").head(5).plot(kind=\"bar\")"
   ]
  },
  {
   "cell_type": "code",
   "execution_count": 296,
   "metadata": {},
   "outputs": [
    {
     "data": {
      "text/plain": [
       "<AxesSubplot:xlabel='customer_state'>"
      ]
     },
     "execution_count": 296,
     "metadata": {},
     "output_type": "execute_result"
    },
    {
     "data": {
      "image/png": "[encoded data removed]",
      "text/plain": [
       "<Figure size 432x288 with 1 Axes>"
      ]
     },
     "metadata": {
      "needs_background": "light"
     },
     "output_type": "display_data"
    }
   ],
   "source": [
    "analytics_df.groupby(\"customer_state\")[\"freight_value\"].agg(\n",
    "    [\"mean\", \"median\", \"std\"]\n",
    ").sort_values(by=\"mean\").head(5).plot(kind=\"bar\")"
   ]
  },
  {
   "cell_type": "code",
   "execution_count": 297,
   "metadata": {},
   "outputs": [
    {
     "data": {
      "text/plain": [
       "<AxesSubplot:xlabel='customer_region'>"
      ]
     },
     "execution_count": 297,
     "metadata": {},
     "output_type": "execute_result"
    },
    {
     "data": {
      "image/png": "[encoded data removed]",
      "text/plain": [
       "<Figure size 432x288 with 1 Axes>"
      ]
     },
     "metadata": {
      "needs_background": "light"
     },
     "output_type": "display_data"
    }
   ],
   "source": [
    "analytics_df.groupby(\"customer_region\")[\"freight_value\"].agg(\n",
    "    [\"mean\", \"median\", \"std\"]\n",
    ").sort_values(ascending=False, by=\"mean\").plot(kind=\"bar\")"
   ]
  },
  {
   "cell_type": "code",
   "execution_count": 298,
   "metadata": {},
   "outputs": [
    {
     "data": {
      "text/plain": [
       "<AxesSubplot:xlabel='order_delivery_delay', ylabel='freight_value'>"
      ]
     },
     "execution_count": 298,
     "metadata": {},
     "output_type": "execute_result"
    },
    {
     "data": {
      "image/png": "[encoded data removed]",
      "text/plain": [
       "<Figure size 432x288 with 1 Axes>"
      ]
     },
     "metadata": {
      "needs_background": "light"
     },
     "output_type": "display_data"
    }
   ],
   "source": [
    "sns.scatterplot(\n",
    "    data=analytics_df,\n",
    "    x=\"order_delivery_delay\",\n",
    "    y=\"freight_value\",\n",
    "    hue=\"review_score\",\n",
    ")"
   ]
  },
  {
   "cell_type": "markdown",
   "metadata": {},
   "source": [
    "Aplicando o teorema de Bayes: Dado que a entrega do pedido foi pontual ou antecipada, qual a probabilidade do pedido receber uma avalição 5?"
   ]
  },
  {
   "cell_type": "markdown",
   "metadata": {},
   "source": [
    "P(A|B) = P(B|A)P(A)/P(B)\n",
    "\n",
    "Quebrando o teorema em partes individuais temos:\n",
    "\n",
    "- P(A): Probabilidade a priori (Prior probability), é a probabilidade de que \"A\" ocorra.\n",
    "- P(B|A): Probabilidade condicional (Likelihood), é a probabilidade de que \"B\" ocorra, dado que \"A\" é verdade.\n",
    "- P(B): Probabilidade conjunta (marginalization), é a probabilidade de que \"B\" é verdade.\n",
    "- P(A|B): Probabilidade a posterior (Posterior probability), é a probabilidade de que \"A\" ocorra, dado que \"B\" é verdade.\n",
    "\n",
    "Traduzindo nos termos do dataset analisado, temos:\n",
    "\n",
    "- E = Entrega pontual ou antecipada\n",
    "- R = Review 5\n",
    "\n",
    "P(R|E) = P(E|R)P(R)/P(E)\n",
    "\n",
    "\n",
    "\n"
   ]
  },
  {
   "cell_type": "markdown",
   "metadata": {},
   "source": [
    "A Priori, P(R):"
   ]
  },
  {
   "cell_type": "code",
   "execution_count": 299,
   "metadata": {},
   "outputs": [
    {
     "data": {
      "text/plain": [
       "0.5743158515895848"
      ]
     },
     "execution_count": 299,
     "metadata": {},
     "output_type": "execute_result"
    }
   ],
   "source": [
    "priori = len(analytics_df[analytics_df[\"review_score\"] == 5]) / len(\n",
    "    analytics_df[\"review_score\"]\n",
    ")\n",
    "priori"
   ]
  },
  {
   "cell_type": "markdown",
   "metadata": {},
   "source": [
    "Probabilidade Condicional, P(E|R)"
   ]
  },
  {
   "cell_type": "code",
   "execution_count": 300,
   "metadata": {},
   "outputs": [
    {
     "data": {
      "text/plain": [
       "0.9820511173901875"
      ]
     },
     "execution_count": 300,
     "metadata": {},
     "output_type": "execute_result"
    }
   ],
   "source": [
    "likelihood = len(\n",
    "    analytics_df[\n",
    "        (analytics_df[\"order_delivery_delay\"] <= 0)\n",
    "        & (analytics_df[\"review_score\"] == 5)\n",
    "    ]\n",
    ") / len(analytics_df[analytics_df[\"review_score\"] == 5])\n",
    "\n",
    "\n",
    "likelihood"
   ]
  },
  {
   "cell_type": "markdown",
   "metadata": {},
   "source": [
    "Probabilidade Conjunta, P(E):"
   ]
  },
  {
   "cell_type": "code",
   "execution_count": 301,
   "metadata": {},
   "outputs": [
    {
     "data": {
      "text/plain": [
       "0.9353654938408202"
      ]
     },
     "execution_count": 301,
     "metadata": {},
     "output_type": "execute_result"
    }
   ],
   "source": [
    "marginalization = len(analytics_df[analytics_df[\"order_delivery_delay\"] <= 0]) / len(\n",
    "    analytics_df[\"order_delivery_delay\"]\n",
    ")\n",
    "marginalization"
   ]
  },
  {
   "cell_type": "markdown",
   "metadata": {},
   "source": [
    "Probabilidade A Posteriori, P(A|B):"
   ]
  },
  {
   "cell_type": "code",
   "execution_count": 302,
   "metadata": {},
   "outputs": [
    {
     "data": {
      "text/plain": [
       "0.6029808962403643"
      ]
     },
     "execution_count": 302,
     "metadata": {},
     "output_type": "execute_result"
    }
   ],
   "source": [
    "posteriori = likelihood * priori / marginalization\n",
    "posteriori"
   ]
  },
  {
   "cell_type": "markdown",
   "metadata": {},
   "source": [
    "O mesmo processo que realizamos passo a passo pode ser realizado de forma direta:"
   ]
  },
  {
   "cell_type": "markdown",
   "metadata": {},
   "source": [
    "Aplicando o teorema de Bayes: Dado que a entrega do pedido foi pontual ou antecipada, qual a probabilidade do pedido receber uma avalição N?"
   ]
  },
  {
   "cell_type": "code",
   "execution_count": 303,
   "metadata": {},
   "outputs": [
    {
     "name": "stdout",
     "output_type": "stream",
     "text": [
      "1.0    0.084439\n",
      "2.0    0.029750\n",
      "3.0    0.082763\n",
      "4.0    0.200067\n",
      "5.0    0.602981\n",
      "Name: review_score, dtype: float64\n"
     ]
    },
    {
     "data": {
      "image/png": "[encoded data removed]",
      "text/plain": [
       "<Figure size 432x288 with 1 Axes>"
      ]
     },
     "metadata": {
      "needs_background": "light"
     },
     "output_type": "display_data"
    }
   ],
   "source": [
    "s = analytics_df[analytics_df[\"order_delivery_delay\"] <= 0]\n",
    "pdf = s[\"review_score\"].value_counts(normalize=True).sort_index()\n",
    "cdf = pdf.cumsum()\n",
    "\n",
    "# plotting PDF and CDF\n",
    "plt.plot(pdf, color=\"red\", label=\"PDF\")\n",
    "plt.plot(cdf, label=\"CDF\")\n",
    "plt.legend()\n",
    "\n",
    "print(pdf)"
   ]
  },
  {
   "cell_type": "markdown",
   "metadata": {},
   "source": [
    "Dado que a entrega do pedido foi atrasada, qual a probabilidade do pedido receber uma avalição N?"
   ]
  },
  {
   "cell_type": "code",
   "execution_count": 306,
   "metadata": {},
   "outputs": [
    {
     "name": "stdout",
     "output_type": "stream",
     "text": [
      "1.0    0.548074\n",
      "2.0    0.080742\n",
      "3.0    0.104137\n",
      "4.0    0.107561\n",
      "5.0    0.159486\n",
      "Name: review_score, dtype: float64\n"
     ]
    },
    {
     "data": {
      "image/png": "[encoded data removed]",
      "text/plain": [
       "<Figure size 432x288 with 1 Axes>"
      ]
     },
     "metadata": {
      "needs_background": "light"
     },
     "output_type": "display_data"
    }
   ],
   "source": [
    "s = analytics_df[analytics_df[\"order_delivery_delay\"] > 0]\n",
    "pdf = s[\"review_score\"].value_counts().sort_index() / len(s)\n",
    "cdf = pdf.cumsum()\n",
    "\n",
    "# plotting PDF and CDF\n",
    "plt.plot(pdf, color=\"red\", label=\"PDF\")\n",
    "plt.plot(cdf, label=\"CDF\")\n",
    "plt.legend()\n",
    "\n",
    "print(pdf)"
   ]
  }
 ],
 "metadata": {
  "kernelspec": {
   "display_name": "ds",
   "language": "python",
   "name": "ds"
  },
  "language_info": {
   "codemirror_mode": {
    "name": "ipython",
    "version": 3
   },
   "file_extension": ".py",
   "mimetype": "text/x-python",
   "name": "python",
   "nbconvert_exporter": "python",
   "pygments_lexer": "ipython3",
   "version": "3.10.4"
  },
  "orig_nbformat": 4
 },
 "nbformat": 4,
 "nbformat_minor": 2
}
